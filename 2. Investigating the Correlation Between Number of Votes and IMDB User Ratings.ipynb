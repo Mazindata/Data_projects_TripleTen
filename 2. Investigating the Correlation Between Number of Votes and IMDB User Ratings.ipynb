{
 "cells": [
  {
   "cell_type": "markdown",
   "id": "f85a80d2",
   "metadata": {},
   "source": [
    "## Investigating the Correlation Between Number of Votes and IMDB User Ratings  <a id='intro'></a>"
   ]
  },
  {
   "cell_type": "markdown",
   "id": "a1262df4",
   "metadata": {},
   "source": [
    "## Introduction <a id='intro'></a>\n",
    "In this project, we will work with data from the entertainment industry. We will study a dataset with records on movies and shows. The research will focus on the \"Golden Age\" of television, which began in 1999 with the release of *The Sopranos* and is still ongoing.\n",
    "\n",
    "The aim of this project is to investigate how the number of votes a title receives impacts its ratings. The assumption is that highly-rated shows (we will focus on TV shows, ignoring movies) released during the \"Golden Age\" of television also have the most votes.\n",
    "\n",
    "### Stages \n",
    "Data on movies and shows is stored in the `/datasets/movies_and_shows.csv` file. There is no information about the quality of the data, so we will need to explore it before doing the analysis.\n",
    "\n",
    "First, we'll evaluate the quality of the data and see whether its issues are significant. Then, during data preprocessing, we will try to account for the most critical problems.\n",
    " \n",
    "Your project will consist of three stages:\n",
    " 1. Data overview\n",
    " 2. Data preprocessing\n",
    " 3. Data analysis"
   ]
  },
  {
   "cell_type": "markdown",
   "id": "ac0593ac",
   "metadata": {},
   "source": [
    "## Stage 1. Data overview <a id='data_review'></a>\n",
    "\n",
    "Open and explore the data."
   ]
  },
  {
   "cell_type": "code",
   "execution_count": null,
   "id": "1727d3f8",
   "metadata": {
    "trusted": false
   },
   "outputs": [],
   "source": [
    "# importing pandas\n",
    "import pandas as pd"
   ]
  },
  {
   "cell_type": "markdown",
   "id": "9821beeb",
   "metadata": {},
   "source": [
    "Reading the `movies_and_shows.csv` file from the `datasets` folder and save it in the `df` variable:"
   ]
  },
  {
   "cell_type": "code",
   "execution_count": null,
   "id": "fc5a1402",
   "metadata": {
    "trusted": false
   },
   "outputs": [],
   "source": [
    "# reading the files and storing them to df\n",
    "df = pd.read_csv('/datasets/movies_and_shows.csv')"
   ]
  },
  {
   "cell_type": "markdown",
   "id": "1cd0a96d",
   "metadata": {},
   "source": [
    "Print the first 10 table rows:"
   ]
  },
  {
   "cell_type": "code",
   "execution_count": null,
   "id": "acd92001",
   "metadata": {
    "trusted": false
   },
   "outputs": [
    {
     "data": {
      "text/html": [
       "<div>\n",
       "<style scoped>\n",
       "    .dataframe tbody tr th:only-of-type {\n",
       "        vertical-align: middle;\n",
       "    }\n",
       "\n",
       "    .dataframe tbody tr th {\n",
       "        vertical-align: top;\n",
       "    }\n",
       "\n",
       "    .dataframe thead th {\n",
       "        text-align: right;\n",
       "    }\n",
       "</style>\n",
       "<table border=\"1\" class=\"dataframe\">\n",
       "  <thead>\n",
       "    <tr style=\"text-align: right;\">\n",
       "      <th></th>\n",
       "      <th>name</th>\n",
       "      <th>Character</th>\n",
       "      <th>r0le</th>\n",
       "      <th>TITLE</th>\n",
       "      <th>Type</th>\n",
       "      <th>release Year</th>\n",
       "      <th>genres</th>\n",
       "      <th>imdb sc0re</th>\n",
       "      <th>imdb v0tes</th>\n",
       "    </tr>\n",
       "  </thead>\n",
       "  <tbody>\n",
       "    <tr>\n",
       "      <th>0</th>\n",
       "      <td>Robert De Niro</td>\n",
       "      <td>Travis Bickle</td>\n",
       "      <td>ACTOR</td>\n",
       "      <td>Taxi Driver</td>\n",
       "      <td>MOVIE</td>\n",
       "      <td>1976</td>\n",
       "      <td>['drama', 'crime']</td>\n",
       "      <td>8.2</td>\n",
       "      <td>808582.0</td>\n",
       "    </tr>\n",
       "    <tr>\n",
       "      <th>1</th>\n",
       "      <td>Jodie Foster</td>\n",
       "      <td>Iris Steensma</td>\n",
       "      <td>ACTOR</td>\n",
       "      <td>Taxi Driver</td>\n",
       "      <td>MOVIE</td>\n",
       "      <td>1976</td>\n",
       "      <td>['drama', 'crime']</td>\n",
       "      <td>8.2</td>\n",
       "      <td>808582.0</td>\n",
       "    </tr>\n",
       "    <tr>\n",
       "      <th>2</th>\n",
       "      <td>Albert Brooks</td>\n",
       "      <td>Tom</td>\n",
       "      <td>ACTOR</td>\n",
       "      <td>Taxi Driver</td>\n",
       "      <td>MOVIE</td>\n",
       "      <td>1976</td>\n",
       "      <td>['drama', 'crime']</td>\n",
       "      <td>8.2</td>\n",
       "      <td>808582.0</td>\n",
       "    </tr>\n",
       "    <tr>\n",
       "      <th>3</th>\n",
       "      <td>Harvey Keitel</td>\n",
       "      <td>Matthew 'Sport' Higgins</td>\n",
       "      <td>ACTOR</td>\n",
       "      <td>Taxi Driver</td>\n",
       "      <td>MOVIE</td>\n",
       "      <td>1976</td>\n",
       "      <td>['drama', 'crime']</td>\n",
       "      <td>8.2</td>\n",
       "      <td>808582.0</td>\n",
       "    </tr>\n",
       "    <tr>\n",
       "      <th>4</th>\n",
       "      <td>Cybill Shepherd</td>\n",
       "      <td>Betsy</td>\n",
       "      <td>ACTOR</td>\n",
       "      <td>Taxi Driver</td>\n",
       "      <td>MOVIE</td>\n",
       "      <td>1976</td>\n",
       "      <td>['drama', 'crime']</td>\n",
       "      <td>8.2</td>\n",
       "      <td>808582.0</td>\n",
       "    </tr>\n",
       "    <tr>\n",
       "      <th>5</th>\n",
       "      <td>Peter Boyle</td>\n",
       "      <td>Wizard</td>\n",
       "      <td>ACTOR</td>\n",
       "      <td>Taxi Driver</td>\n",
       "      <td>MOVIE</td>\n",
       "      <td>1976</td>\n",
       "      <td>['drama', 'crime']</td>\n",
       "      <td>8.2</td>\n",
       "      <td>808582.0</td>\n",
       "    </tr>\n",
       "    <tr>\n",
       "      <th>6</th>\n",
       "      <td>Leonard Harris</td>\n",
       "      <td>Senator Charles Palantine</td>\n",
       "      <td>ACTOR</td>\n",
       "      <td>Taxi Driver</td>\n",
       "      <td>MOVIE</td>\n",
       "      <td>1976</td>\n",
       "      <td>['drama', 'crime']</td>\n",
       "      <td>8.2</td>\n",
       "      <td>808582.0</td>\n",
       "    </tr>\n",
       "    <tr>\n",
       "      <th>7</th>\n",
       "      <td>Diahnne Abbott</td>\n",
       "      <td>Concession Girl</td>\n",
       "      <td>ACTOR</td>\n",
       "      <td>Taxi Driver</td>\n",
       "      <td>MOVIE</td>\n",
       "      <td>1976</td>\n",
       "      <td>['drama', 'crime']</td>\n",
       "      <td>8.2</td>\n",
       "      <td>808582.0</td>\n",
       "    </tr>\n",
       "    <tr>\n",
       "      <th>8</th>\n",
       "      <td>Gino Ardito</td>\n",
       "      <td>Policeman at Rally</td>\n",
       "      <td>ACTOR</td>\n",
       "      <td>Taxi Driver</td>\n",
       "      <td>MOVIE</td>\n",
       "      <td>1976</td>\n",
       "      <td>['drama', 'crime']</td>\n",
       "      <td>8.2</td>\n",
       "      <td>808582.0</td>\n",
       "    </tr>\n",
       "    <tr>\n",
       "      <th>9</th>\n",
       "      <td>Martin Scorsese</td>\n",
       "      <td>Passenger Watching Silhouette</td>\n",
       "      <td>ACTOR</td>\n",
       "      <td>Taxi Driver</td>\n",
       "      <td>MOVIE</td>\n",
       "      <td>1976</td>\n",
       "      <td>['drama', 'crime']</td>\n",
       "      <td>8.2</td>\n",
       "      <td>808582.0</td>\n",
       "    </tr>\n",
       "  </tbody>\n",
       "</table>\n",
       "</div>"
      ],
      "text/plain": [
       "              name                      Character   r0le        TITLE   Type  \\\n",
       "0   Robert De Niro                  Travis Bickle  ACTOR  Taxi Driver  MOVIE   \n",
       "1     Jodie Foster                  Iris Steensma  ACTOR  Taxi Driver  MOVIE   \n",
       "2    Albert Brooks                            Tom  ACTOR  Taxi Driver  MOVIE   \n",
       "3    Harvey Keitel        Matthew 'Sport' Higgins  ACTOR  Taxi Driver  MOVIE   \n",
       "4  Cybill Shepherd                          Betsy  ACTOR  Taxi Driver  MOVIE   \n",
       "5      Peter Boyle                         Wizard  ACTOR  Taxi Driver  MOVIE   \n",
       "6   Leonard Harris      Senator Charles Palantine  ACTOR  Taxi Driver  MOVIE   \n",
       "7   Diahnne Abbott                Concession Girl  ACTOR  Taxi Driver  MOVIE   \n",
       "8      Gino Ardito             Policeman at Rally  ACTOR  Taxi Driver  MOVIE   \n",
       "9  Martin Scorsese  Passenger Watching Silhouette  ACTOR  Taxi Driver  MOVIE   \n",
       "\n",
       "   release Year              genres  imdb sc0re  imdb v0tes  \n",
       "0          1976  ['drama', 'crime']         8.2    808582.0  \n",
       "1          1976  ['drama', 'crime']         8.2    808582.0  \n",
       "2          1976  ['drama', 'crime']         8.2    808582.0  \n",
       "3          1976  ['drama', 'crime']         8.2    808582.0  \n",
       "4          1976  ['drama', 'crime']         8.2    808582.0  \n",
       "5          1976  ['drama', 'crime']         8.2    808582.0  \n",
       "6          1976  ['drama', 'crime']         8.2    808582.0  \n",
       "7          1976  ['drama', 'crime']         8.2    808582.0  \n",
       "8          1976  ['drama', 'crime']         8.2    808582.0  \n",
       "9          1976  ['drama', 'crime']         8.2    808582.0  "
      ]
     },
     "execution_count": 3,
     "metadata": {},
     "output_type": "execute_result"
    }
   ],
   "source": [
    "# obtaining the first 10 rows from the df table\n",
    "df.head(10)"
   ]
  },
  {
   "cell_type": "markdown",
   "id": "98db81ad",
   "metadata": {},
   "source": [
    "<div class=\"alert alert-block alert-success\"> <b>Reviewer's comment</b> <a \n",
    "class=\"tocSkip\"></a>\n",
    "Well done We have all necessary data</div>"
   ]
  },
  {
   "cell_type": "markdown",
   "id": "e579aa91",
   "metadata": {},
   "source": [
    "Obtain the general information about the table with one command:"
   ]
  },
  {
   "cell_type": "code",
   "execution_count": null,
   "id": "7bf66d2a",
   "metadata": {
    "trusted": false
   },
   "outputs": [
    {
     "data": {
      "text/plain": [
       "<bound method DataFrame.info of                      name                Character      r0le        TITLE  \\\n",
       "0          Robert De Niro            Travis Bickle     ACTOR  Taxi Driver   \n",
       "1            Jodie Foster            Iris Steensma     ACTOR  Taxi Driver   \n",
       "2           Albert Brooks                      Tom     ACTOR  Taxi Driver   \n",
       "3           Harvey Keitel  Matthew 'Sport' Higgins     ACTOR  Taxi Driver   \n",
       "4         Cybill Shepherd                    Betsy     ACTOR  Taxi Driver   \n",
       "...                   ...                      ...       ...          ...   \n",
       "85574    Adelaida Buscato               Mar??a Paz     ACTOR      Lokillo   \n",
       "85575  Luz Stella Luengas             Karen Bayona     ACTOR      Lokillo   \n",
       "85576        In??s Prieto                    Fanny     ACTOR      Lokillo   \n",
       "85577        Isabel Gaona                   Cacica     ACTOR      Lokillo   \n",
       "85578      Julian Gaviria                  unknown  DIRECTOR      Lokillo   \n",
       "\n",
       "            Type  release Year              genres  imdb sc0re  imdb v0tes  \n",
       "0          MOVIE          1976  ['drama', 'crime']         8.2    808582.0  \n",
       "1          MOVIE          1976  ['drama', 'crime']         8.2    808582.0  \n",
       "2          MOVIE          1976  ['drama', 'crime']         8.2    808582.0  \n",
       "3          MOVIE          1976  ['drama', 'crime']         8.2    808582.0  \n",
       "4          MOVIE          1976  ['drama', 'crime']         8.2    808582.0  \n",
       "...          ...           ...                 ...         ...         ...  \n",
       "85574  the movie          2021          ['comedy']         3.8        68.0  \n",
       "85575  the movie          2021          ['comedy']         3.8        68.0  \n",
       "85576  the movie          2021          ['comedy']         3.8        68.0  \n",
       "85577      MOVIE          2021          ['comedy']         3.8        68.0  \n",
       "85578  the movie          2021          ['comedy']         3.8        68.0  \n",
       "\n",
       "[85579 rows x 9 columns]>"
      ]
     },
     "execution_count": 4,
     "metadata": {},
     "output_type": "execute_result"
    }
   ],
   "source": [
    "# obtaining general information about the data in df\n",
    "df.info()"
   ]
  },
  {
   "cell_type": "markdown",
   "id": "e91f62a7",
   "metadata": {},
   "source": [
    "The table contains nine columns. The majority store the same data type: object. The only exceptions are `'release Year'` (int64 type), `'imdb sc0re'` (float64 type) and `'imdb v0tes'` (float64 type). Scores and votes will be used in our analysis, so it's important to verify that they are present in the dataframe in the appropriate numeric format. Three columns (`'TITLE'`, `'imdb sc0re'` and `'imdb v0tes'`) have missing values.\n",
    "\n",
    "According to the documentation:\n",
    "- `'name'` — actor/director's name and last name\n",
    "- `'Character'` — character played (for actors)\n",
    "- `'r0le '` — the person's contribution to the title (it can be in the capacity of either actor or director)\n",
    "- `'TITLE '` — title of the movie (show)\n",
    "- `'  Type'` — show or movie\n",
    "- `'release Year'` — year when movie (show) was released\n",
    "- `'genres'` — list of genres under which the movie (show) falls\n",
    "- `'imdb sc0re'` — score on IMDb\n",
    "- `'imdb v0tes'` — votes on IMDb\n",
    "\n",
    "We can see three issues with the column names:\n",
    "1. Some names are uppercase, while others are lowercase.\n",
    "2. There are names containing whitespace.\n",
    "3. A few column names have digit '0' instead of letter 'o'. \n"
   ]
  },
  {
   "cell_type": "markdown",
   "id": "4355de7b",
   "metadata": {},
   "source": [
    "### Conclusions <a id='data_review_conclusions'></a> \n",
    "\n",
    "Each row in the table stores data about a movie or show. The columns can be divided into two categories: the first is about the roles held by different people who worked on the movie or show (role, name of the actor or director, and character if the row is about an actor); the second category is information about the movie or show itself (title, release year, genre, imdb figures).\n",
    "\n",
    "It's clear that there is sufficient data to do the analysis and evaluate our assumption. However, to move forward, we need to preprocess the data."
   ]
  },
  {
   "cell_type": "markdown",
   "id": "c5dc9111",
   "metadata": {},
   "source": [
    "## Stage 2. Data preprocessing <a id='data_preprocessing'></a>\n",
    "We will correct the formatting in the column headers and deal with the missing values. Then, check whether there are duplicates in the data."
   ]
  },
  {
   "cell_type": "code",
   "execution_count": null,
   "id": "9c850d13",
   "metadata": {
    "trusted": false
   },
   "outputs": [
    {
     "data": {
      "text/plain": [
       "Index(['   name', 'Character', 'r0le', 'TITLE', '  Type', 'release Year',\n",
       "       'genres', 'imdb sc0re', 'imdb v0tes'],\n",
       "      dtype='object')"
      ]
     },
     "execution_count": 5,
     "metadata": {},
     "output_type": "execute_result"
    }
   ],
   "source": [
    "# the list of column names in the df table\n",
    "df.columns"
   ]
  },
  {
   "cell_type": "markdown",
   "id": "5f966df9",
   "metadata": {},
   "source": [
    "Change the column names according to the rules of good style:\n",
    "* If the name has several words, use snake_case\n",
    "* All characters must be lowercase\n",
    "* Remove whitespace\n",
    "* Replace zero with letter 'o'"
   ]
  },
  {
   "cell_type": "code",
   "execution_count": null,
   "id": "23a1dc11",
   "metadata": {
    "trusted": false
   },
   "outputs": [],
   "source": [
    "# renaming columns\n",
    "df = df.rename(\n",
    "    columns={\n",
    "        '   name': 'name',\n",
    "        'Character': 'character',\n",
    "        'r0le': 'role',\n",
    "        'TITLE': 'title',\n",
    "        '  Type': 'type',\n",
    "        'release Year': 'release_year',\n",
    "        'imdb sc0re': 'imdb_score',\n",
    "        'imdb v0tes': 'imdb_votes',\n",
    "    }\n",
    ")\n"
   ]
  },
  {
   "cell_type": "markdown",
   "id": "464fbd04",
   "metadata": {},
   "source": [
    "Check the result. Print the names of the columns once more:"
   ]
  },
  {
   "cell_type": "code",
   "execution_count": null,
   "id": "0eb6527f",
   "metadata": {
    "trusted": false
   },
   "outputs": [
    {
     "data": {
      "text/plain": [
       "Index(['name', 'character', 'role', 'title', 'type', 'release_year', 'genres',\n",
       "       'imdb_score', 'imdb_votes'],\n",
       "      dtype='object')"
      ]
     },
     "execution_count": 7,
     "metadata": {},
     "output_type": "execute_result"
    }
   ],
   "source": [
    "df.columns\n",
    "# checking result: the list of column names"
   ]
  },
  {
   "cell_type": "markdown",
   "id": "f58fe6ea",
   "metadata": {},
   "source": [
    "<div class=\"alert alert-block alert-success\"> <b>Reviewer's comment</b> <a \n",
    "class=\"tocSkip\"></a>\n",
    "Great You can also use\n",
    "    \n",
    "    df.columns = [new column names]\n",
    "\n",
    "\n",
    "</div>"
   ]
  },
  {
   "cell_type": "markdown",
   "id": "14d9c319",
   "metadata": {},
   "source": [
    "### Missing values <a id='missing_values'></a>\n",
    "First, find the number of missing values in the table. To do so, combine two `pandas` methods:"
   ]
  },
  {
   "cell_type": "code",
   "execution_count": null,
   "id": "21c427f2",
   "metadata": {
    "trusted": false
   },
   "outputs": [
    {
     "name": "stdout",
     "output_type": "stream",
     "text": [
      "name               0\n",
      "character          0\n",
      "role               0\n",
      "title              1\n",
      "type               0\n",
      "release_year       0\n",
      "genres             0\n",
      "imdb_score      4609\n",
      "imdb_votes      4726\n",
      "dtype: int64\n"
     ]
    }
   ],
   "source": [
    "# calculating missing values\n",
    "print(df.isna().sum())"
   ]
  },
  {
   "cell_type": "markdown",
   "id": "c8272df3",
   "metadata": {},
   "source": [
    "We identified missing values in several columns. While the missing value in `'title'` isn't critical, missing values in `'imdb_score'` and `'imdb_votes'` affect around 6% of the data, which could impact our analysis. To ensure data integrity, we'll drop all rows with missing values."
   ]
  },
  {
   "cell_type": "code",
   "execution_count": null,
   "id": "599d5550",
   "metadata": {
    "trusted": false
   },
   "outputs": [],
   "source": [
    "# dropping rows where columns with scores, and votes have missing values\n",
    "df = df.dropna(axis='rows')\n"
   ]
  },
  {
   "cell_type": "markdown",
   "id": "2156887f",
   "metadata": {},
   "source": [
    "Make sure the table doesn't contain any more missing values. Count the missing values again."
   ]
  },
  {
   "cell_type": "code",
   "execution_count": null,
   "id": "55c0b0ce",
   "metadata": {
    "scrolled": true,
    "trusted": false
   },
   "outputs": [
    {
     "name": "stdout",
     "output_type": "stream",
     "text": [
      "name            0\n",
      "character       0\n",
      "role            0\n",
      "title           0\n",
      "type            0\n",
      "release_year    0\n",
      "genres          0\n",
      "imdb_score      0\n",
      "imdb_votes      0\n",
      "dtype: int64\n"
     ]
    }
   ],
   "source": [
    "# counting missing values\n",
    "print(df.isna().sum())"
   ]
  },
  {
   "cell_type": "markdown",
   "id": "dc8d3eaf",
   "metadata": {},
   "source": [
    "<div class=\"alert alert-block alert-success\"> <b>Reviewer's comment</b> <a \n",
    "class=\"tocSkip\"></a>\n",
    "Perfect</div>"
   ]
  },
  {
   "cell_type": "markdown",
   "id": "a7dc7aa0",
   "metadata": {},
   "source": [
    "### Duplicates <a id='duplicates'></a>\n",
    "Find the number of duplicate rows in the table using one command:"
   ]
  },
  {
   "cell_type": "code",
   "execution_count": null,
   "id": "9227df01",
   "metadata": {
    "trusted": false
   },
   "outputs": [
    {
     "data": {
      "text/plain": [
       "6994"
      ]
     },
     "execution_count": 11,
     "metadata": {},
     "output_type": "execute_result"
    }
   ],
   "source": [
    "# counting duplicate rows\n",
    "df.duplicated().sum()"
   ]
  },
  {
   "cell_type": "markdown",
   "id": "5f6eb0fc",
   "metadata": {},
   "source": [
    "Review the duplicate rows to determine if removing them would distort our dataset."
   ]
  },
  {
   "cell_type": "code",
   "execution_count": null,
   "id": "bcf32fcb",
   "metadata": {
    "trusted": false
   },
   "outputs": [
    {
     "data": {
      "text/html": [
       "<div>\n",
       "<style scoped>\n",
       "    .dataframe tbody tr th:only-of-type {\n",
       "        vertical-align: middle;\n",
       "    }\n",
       "\n",
       "    .dataframe tbody tr th {\n",
       "        vertical-align: top;\n",
       "    }\n",
       "\n",
       "    .dataframe thead th {\n",
       "        text-align: right;\n",
       "    }\n",
       "</style>\n",
       "<table border=\"1\" class=\"dataframe\">\n",
       "  <thead>\n",
       "    <tr style=\"text-align: right;\">\n",
       "      <th></th>\n",
       "      <th>name</th>\n",
       "      <th>character</th>\n",
       "      <th>role</th>\n",
       "      <th>title</th>\n",
       "      <th>type</th>\n",
       "      <th>release_year</th>\n",
       "      <th>genres</th>\n",
       "      <th>imdb_score</th>\n",
       "      <th>imdb_votes</th>\n",
       "    </tr>\n",
       "  </thead>\n",
       "  <tbody>\n",
       "    <tr>\n",
       "      <th>85569</th>\n",
       "      <td>Jessica Cediel</td>\n",
       "      <td>Liliana Navarro</td>\n",
       "      <td>ACTOR</td>\n",
       "      <td>Lokillo</td>\n",
       "      <td>MOVIE</td>\n",
       "      <td>2021</td>\n",
       "      <td>['comedy']</td>\n",
       "      <td>3.8</td>\n",
       "      <td>68.0</td>\n",
       "    </tr>\n",
       "    <tr>\n",
       "      <th>85570</th>\n",
       "      <td>Javier Gardeaz?­bal</td>\n",
       "      <td>Agust??n \"Peluca\" Ort??z</td>\n",
       "      <td>ACTOR</td>\n",
       "      <td>Lokillo</td>\n",
       "      <td>MOVIE</td>\n",
       "      <td>2021</td>\n",
       "      <td>['comedy']</td>\n",
       "      <td>3.8</td>\n",
       "      <td>68.0</td>\n",
       "    </tr>\n",
       "    <tr>\n",
       "      <th>85571</th>\n",
       "      <td>Carla Giraldo</td>\n",
       "      <td>Valery Reinoso</td>\n",
       "      <td>ACTOR</td>\n",
       "      <td>Lokillo</td>\n",
       "      <td>MOVIE</td>\n",
       "      <td>2021</td>\n",
       "      <td>['comedy']</td>\n",
       "      <td>3.8</td>\n",
       "      <td>68.0</td>\n",
       "    </tr>\n",
       "    <tr>\n",
       "      <th>85572</th>\n",
       "      <td>Ana Mar??a S?­nchez</td>\n",
       "      <td>Lourdes</td>\n",
       "      <td>ACTOR</td>\n",
       "      <td>Lokillo</td>\n",
       "      <td>MOVIE</td>\n",
       "      <td>2021</td>\n",
       "      <td>['comedy']</td>\n",
       "      <td>3.8</td>\n",
       "      <td>68.0</td>\n",
       "    </tr>\n",
       "    <tr>\n",
       "      <th>85577</th>\n",
       "      <td>Isabel Gaona</td>\n",
       "      <td>Cacica</td>\n",
       "      <td>ACTOR</td>\n",
       "      <td>Lokillo</td>\n",
       "      <td>MOVIE</td>\n",
       "      <td>2021</td>\n",
       "      <td>['comedy']</td>\n",
       "      <td>3.8</td>\n",
       "      <td>68.0</td>\n",
       "    </tr>\n",
       "  </tbody>\n",
       "</table>\n",
       "</div>"
      ],
      "text/plain": [
       "                      name                 character   role    title   type  \\\n",
       "85569       Jessica Cediel           Liliana Navarro  ACTOR  Lokillo  MOVIE   \n",
       "85570  Javier Gardeaz?­bal  Agust??n \"Peluca\" Ort??z  ACTOR  Lokillo  MOVIE   \n",
       "85571        Carla Giraldo            Valery Reinoso  ACTOR  Lokillo  MOVIE   \n",
       "85572  Ana Mar??a S?­nchez                   Lourdes  ACTOR  Lokillo  MOVIE   \n",
       "85577         Isabel Gaona                    Cacica  ACTOR  Lokillo  MOVIE   \n",
       "\n",
       "       release_year      genres  imdb_score  imdb_votes  \n",
       "85569          2021  ['comedy']         3.8        68.0  \n",
       "85570          2021  ['comedy']         3.8        68.0  \n",
       "85571          2021  ['comedy']         3.8        68.0  \n",
       "85572          2021  ['comedy']         3.8        68.0  \n",
       "85577          2021  ['comedy']         3.8        68.0  "
      ]
     },
     "execution_count": 12,
     "metadata": {},
     "output_type": "execute_result"
    }
   ],
   "source": [
    "# Produce table with duplicates (with original rows included) and review last 5 rows\n",
    "df_dupes = df[df.duplicated()]\n",
    "df_dupes.tail(5)"
   ]
  },
  {
   "cell_type": "markdown",
   "id": "a1ed6640",
   "metadata": {},
   "source": [
    "There are two clear duplicates in the printed rows. We can safely remove them.\n",
    "Call the `pandas` method for getting rid of duplicate rows:"
   ]
  },
  {
   "cell_type": "code",
   "execution_count": null,
   "id": "724d5bc8",
   "metadata": {
    "trusted": false
   },
   "outputs": [],
   "source": [
    "# removing duplicate rows\n",
    "df = df.drop_duplicates()\n",
    "#df.drop_duplicates(inplace=True)"
   ]
  },
  {
   "cell_type": "markdown",
   "id": "fc8c77ba",
   "metadata": {},
   "source": [
    "Check for duplicate rows once more to make sure you have removed all of them:"
   ]
  },
  {
   "cell_type": "code",
   "execution_count": null,
   "id": "8091a9bc",
   "metadata": {
    "trusted": false
   },
   "outputs": [
    {
     "data": {
      "text/plain": [
       "0"
      ]
     },
     "execution_count": 14,
     "metadata": {},
     "output_type": "execute_result"
    }
   ],
   "source": [
    "# checking for duplicates\n",
    "df.duplicated().sum()"
   ]
  },
  {
   "cell_type": "markdown",
   "id": "afd7770f",
   "metadata": {},
   "source": [
    "<div class=\"alert alert-block alert-success\"> <b>Reviewer's comment</b> <a \n",
    "class=\"tocSkip\"></a>\n",
    "Correct</div>"
   ]
  },
  {
   "cell_type": "markdown",
   "id": "1d802b07",
   "metadata": {},
   "source": [
    "Now get rid of implicit duplicates in the `'type'` column. For example, the string `'SHOW'` can be written in different ways. These kinds of errors will also affect the result."
   ]
  },
  {
   "cell_type": "markdown",
   "id": "d5f987ed",
   "metadata": {},
   "source": [
    "Print a list of unique `'type'` names, sorted in alphabetical order. To do so:\n",
    "* Retrieve the intended dataframe column \n",
    "* Apply a sorting method to it\n",
    "* For the sorted column, call the method that will return all unique column values"
   ]
  },
  {
   "cell_type": "code",
   "execution_count": null,
   "id": "3d7b0ac5",
   "metadata": {
    "trusted": false
   },
   "outputs": [
    {
     "data": {
      "text/plain": [
       "array(['MOVIE', 'the movie', 'tv show', 'shows', 'movies', 'tv shows',\n",
       "       'tv series', 'tv', 'SHOW'], dtype=object)"
      ]
     },
     "execution_count": 15,
     "metadata": {},
     "output_type": "execute_result"
    }
   ],
   "source": [
    "# viewing unique type names\n",
    "df['type'].unique()"
   ]
  },
  {
   "cell_type": "markdown",
   "id": "ac6e8b18",
   "metadata": {},
   "source": [
    "Look through the list to find implicit duplicates of `'show'` (`'movie'` duplicates will be ignored since the assumption is about shows). These could be names written incorrectly or alternative names of the same genre.\n",
    "\n",
    "You will see the following implicit duplicates:\n",
    "* `'shows'`\n",
    "* `'SHOW'`\n",
    "* `'tv show'`\n",
    "* `'tv shows'`\n",
    "* `'tv series'`\n",
    "* `'tv'`\n",
    "\n",
    "To get rid of them, declare the function `replace_wrong_show()` with two parameters: \n",
    "* `wrong_shows_list=` — the list of duplicates\n",
    "* `correct_show=` — the string with the correct value\n",
    "\n",
    "The function should correct the names in the `'type'` column from the `df` table (i.e., replace each value from the `wrong_shows_list` list with the value in `correct_show`)."
   ]
  },
  {
   "cell_type": "code",
   "execution_count": null,
   "id": "bff944f9",
   "metadata": {
    "trusted": false
   },
   "outputs": [],
   "source": [
    "# function for replacing implicit duplicates\n",
    "\n",
    "wrong_shows_list = ['shows', 'SHOW', 'tv show', 'tv shows', 'tv series', 'tv']\n",
    "correct_show = 'show'\n"
   ]
  },
  {
   "cell_type": "markdown",
   "id": "d02d13a6",
   "metadata": {},
   "source": [
    "Call `replace_wrong_show()` and pass it arguments so that it clears implicit duplicates and replaces them with `SHOW`:"
   ]
  },
  {
   "cell_type": "code",
   "execution_count": null,
   "id": "a2217e53",
   "metadata": {
    "trusted": false
   },
   "outputs": [],
   "source": [
    "# removing implicit duplicates\n",
    "df['type'] = df['type'].replace(wrong_shows_list, correct_show)"
   ]
  },
  {
   "cell_type": "markdown",
   "id": "318b09f7",
   "metadata": {},
   "source": [
    "Make sure the duplicate names are removed. Print the list of unique values from the `'type'` column:"
   ]
  },
  {
   "cell_type": "code",
   "execution_count": null,
   "id": "25d49d73",
   "metadata": {
    "trusted": false
   },
   "outputs": [
    {
     "data": {
      "text/plain": [
       "array(['MOVIE', 'the movie', 'show', 'movies'], dtype=object)"
      ]
     },
     "execution_count": 18,
     "metadata": {},
     "output_type": "execute_result"
    }
   ],
   "source": [
    "# viewing unique genre names\n",
    "df['type'].unique()"
   ]
  },
  {
   "cell_type": "markdown",
   "id": "5f8f3d6c",
   "metadata": {},
   "source": [
    "<div class=\"alert alert-block alert-success\"> <b>Reviewer's comment</b> <a \n",
    "class=\"tocSkip\"></a>\n",
    "Amazing work with implicit duplicates</div>"
   ]
  },
  {
   "cell_type": "markdown",
   "id": "18b2049e",
   "metadata": {},
   "source": [
    "### Conclusions <a id='data_preprocessing_conclusions'></a>\n",
    "We detected three issues with the data:\n",
    "\n",
    "- Incorrect header styles\n",
    "- Missing values\n",
    "- Duplicate rows and implicit duplicates\n",
    "\n",
    "The headers have been cleaned up to make processing the table simpler.\n",
    "\n",
    "All rows with missing values have been removed. \n",
    "\n",
    "The absence of duplicates will make the results more precise and easier to understand.\n",
    "\n",
    "Now we can move on to our analysis of the prepared data."
   ]
  },
  {
   "cell_type": "markdown",
   "id": "1aa0f1b1",
   "metadata": {},
   "source": [
    "## Stage 3. Data analysis <a id='hypotheses'></a>"
   ]
  },
  {
   "cell_type": "markdown",
   "id": "f8fb6a0e",
   "metadata": {},
   "source": [
    "Based on the previous project stages, you can now define how the assumption will be checked. Calculate the average amount of votes for each score (this data is available in the `imdb_score` and `imdb_votes` columns), and then check how these averages relate to each other. If the averages for shows with the highest scores are bigger than those for shows with lower scores, the assumption appears to be true.\n",
    "\n",
    "Based on this, complete the following steps:\n",
    "\n",
    "- Filter the dataframe to only include shows released in 1999 or later.\n",
    "- Group scores into buckets by rounding the values of the appropriate column (a set of 1-10 integers will help us make the outcome of our calculations more evident without damaging the quality of our research).\n",
    "- Identify outliers among scores based on their number of votes, and exclude scores with few votes.\n",
    "- Calculate the average votes for each score and check whether the assumption matches the results."
   ]
  },
  {
   "cell_type": "markdown",
   "id": "0ea2cb51",
   "metadata": {},
   "source": [
    "To filter the dataframe and only include shows released in 1999 or later, you will take two steps. First, keep only titles published in 1999 or later in our dataframe. Then, filter the table to only contain shows (movies will be removed)."
   ]
  },
  {
   "cell_type": "code",
   "execution_count": null,
   "id": "6a704aa1",
   "metadata": {
    "trusted": false
   },
   "outputs": [],
   "source": [
    "# using conditional indexing modify df so it has only titles released after 1999 (with 1999 included)\n",
    "# give the slice of dataframe new name\n",
    "df_recent = df[df['release_year'] >= 1999]"
   ]
  },
  {
   "cell_type": "code",
   "execution_count": null,
   "id": "128dc6a9",
   "metadata": {
    "scrolled": true,
    "trusted": false
   },
   "outputs": [],
   "source": [
    "# repeat conditional indexing so df has only shows (movies are removed as result)\n",
    "df = df[df['type'] == 'show']"
   ]
  },
  {
   "cell_type": "markdown",
   "id": "9648040c",
   "metadata": {},
   "source": [
    "The scores that are to be grouped should be rounded. For instance, titles with scores like 7.8, 8.1, and 8.3 will all be placed in the same bucket with a score of 8."
   ]
  },
  {
   "cell_type": "code",
   "execution_count": null,
   "id": "54bbd5c0",
   "metadata": {
    "trusted": false
   },
   "outputs": [
    {
     "data": {
      "text/plain": [
       "<bound method NDFrame.tail of                       name             character      role  \\\n",
       "163         Graham Chapman               Various     ACTOR   \n",
       "164          Michael Palin  Various / \"It's\" man     ACTOR   \n",
       "165            Terry Jones               Various     ACTOR   \n",
       "166              Eric Idle               Various     ACTOR   \n",
       "167          Terry Gilliam               Various     ACTOR   \n",
       "...                    ...                   ...       ...   \n",
       "85433     Maneerat Kam-Uan                    Ae     ACTOR   \n",
       "85434    Rudklao Amratisha               unknown     ACTOR   \n",
       "85435      Jaturong Mokjok               unknown     ACTOR   \n",
       "85436     Pisamai Wilaisak               unknown     ACTOR   \n",
       "85437  Sarawut Wichiensarn               unknown  DIRECTOR   \n",
       "\n",
       "                              title  type  release_year  \\\n",
       "163    Monty Python's Flying Circus  show          1969   \n",
       "164    Monty Python's Flying Circus  show          1969   \n",
       "165    Monty Python's Flying Circus  show          1969   \n",
       "166    Monty Python's Flying Circus  show          1969   \n",
       "167    Monty Python's Flying Circus  show          1969   \n",
       "...                             ...   ...           ...   \n",
       "85433                     Let's Eat  show          2021   \n",
       "85434                     Let's Eat  show          2021   \n",
       "85435                     Let's Eat  show          2021   \n",
       "85436                     Let's Eat  show          2021   \n",
       "85437                     Let's Eat  show          2021   \n",
       "\n",
       "                       genres  imdb_score  imdb_votes  \n",
       "163    ['comedy', 'european']         9.0     73424.0  \n",
       "164    ['comedy', 'european']         9.0     73424.0  \n",
       "165    ['comedy', 'european']         9.0     73424.0  \n",
       "166    ['comedy', 'european']         9.0     73424.0  \n",
       "167    ['comedy', 'european']         9.0     73424.0  \n",
       "...                       ...         ...         ...  \n",
       "85433     ['drama', 'comedy']         8.0         5.0  \n",
       "85434     ['drama', 'comedy']         8.0         5.0  \n",
       "85435     ['drama', 'comedy']         8.0         5.0  \n",
       "85436     ['drama', 'comedy']         8.0         5.0  \n",
       "85437     ['drama', 'comedy']         8.0         5.0  \n",
       "\n",
       "[13604 rows x 9 columns]>"
      ]
     },
     "execution_count": 21,
     "metadata": {},
     "output_type": "execute_result"
    }
   ],
   "source": [
    "# rounding column with scores\n",
    "df['imdb_score'] = df['imdb_score'].round()\n",
    "\n",
    "#checking the outcome with tail()\n",
    "df.tail"
   ]
  },
  {
   "cell_type": "markdown",
   "id": "36dbd00a",
   "metadata": {},
   "source": [
    "It is now time to identify outliers based on the number of votes."
   ]
  },
  {
   "cell_type": "code",
   "execution_count": null,
   "id": "b8b55e95",
   "metadata": {
    "trusted": false
   },
   "outputs": [
    {
     "data": {
      "text/html": [
       "<div>\n",
       "<style scoped>\n",
       "    .dataframe tbody tr th:only-of-type {\n",
       "        vertical-align: middle;\n",
       "    }\n",
       "\n",
       "    .dataframe tbody tr th {\n",
       "        vertical-align: top;\n",
       "    }\n",
       "\n",
       "    .dataframe thead th {\n",
       "        text-align: right;\n",
       "    }\n",
       "</style>\n",
       "<table border=\"1\" class=\"dataframe\">\n",
       "  <thead>\n",
       "    <tr style=\"text-align: right;\">\n",
       "      <th></th>\n",
       "      <th>name</th>\n",
       "      <th>character</th>\n",
       "      <th>role</th>\n",
       "      <th>title</th>\n",
       "      <th>type</th>\n",
       "      <th>release_year</th>\n",
       "      <th>genres</th>\n",
       "      <th>imdb_votes</th>\n",
       "    </tr>\n",
       "    <tr>\n",
       "      <th>imdb_score</th>\n",
       "      <th></th>\n",
       "      <th></th>\n",
       "      <th></th>\n",
       "      <th></th>\n",
       "      <th></th>\n",
       "      <th></th>\n",
       "      <th></th>\n",
       "      <th></th>\n",
       "    </tr>\n",
       "  </thead>\n",
       "  <tbody>\n",
       "    <tr>\n",
       "      <th>2.0</th>\n",
       "      <td>24</td>\n",
       "      <td>24</td>\n",
       "      <td>24</td>\n",
       "      <td>24</td>\n",
       "      <td>24</td>\n",
       "      <td>24</td>\n",
       "      <td>24</td>\n",
       "      <td>24</td>\n",
       "    </tr>\n",
       "    <tr>\n",
       "      <th>3.0</th>\n",
       "      <td>27</td>\n",
       "      <td>27</td>\n",
       "      <td>27</td>\n",
       "      <td>27</td>\n",
       "      <td>27</td>\n",
       "      <td>27</td>\n",
       "      <td>27</td>\n",
       "      <td>27</td>\n",
       "    </tr>\n",
       "    <tr>\n",
       "      <th>4.0</th>\n",
       "      <td>195</td>\n",
       "      <td>195</td>\n",
       "      <td>195</td>\n",
       "      <td>195</td>\n",
       "      <td>195</td>\n",
       "      <td>195</td>\n",
       "      <td>195</td>\n",
       "      <td>195</td>\n",
       "    </tr>\n",
       "    <tr>\n",
       "      <th>5.0</th>\n",
       "      <td>592</td>\n",
       "      <td>592</td>\n",
       "      <td>592</td>\n",
       "      <td>592</td>\n",
       "      <td>592</td>\n",
       "      <td>592</td>\n",
       "      <td>592</td>\n",
       "      <td>592</td>\n",
       "    </tr>\n",
       "    <tr>\n",
       "      <th>6.0</th>\n",
       "      <td>2541</td>\n",
       "      <td>2541</td>\n",
       "      <td>2541</td>\n",
       "      <td>2541</td>\n",
       "      <td>2541</td>\n",
       "      <td>2541</td>\n",
       "      <td>2541</td>\n",
       "      <td>2541</td>\n",
       "    </tr>\n",
       "    <tr>\n",
       "      <th>7.0</th>\n",
       "      <td>4744</td>\n",
       "      <td>4744</td>\n",
       "      <td>4744</td>\n",
       "      <td>4744</td>\n",
       "      <td>4744</td>\n",
       "      <td>4744</td>\n",
       "      <td>4744</td>\n",
       "      <td>4744</td>\n",
       "    </tr>\n",
       "    <tr>\n",
       "      <th>8.0</th>\n",
       "      <td>4903</td>\n",
       "      <td>4903</td>\n",
       "      <td>4903</td>\n",
       "      <td>4903</td>\n",
       "      <td>4903</td>\n",
       "      <td>4903</td>\n",
       "      <td>4903</td>\n",
       "      <td>4903</td>\n",
       "    </tr>\n",
       "    <tr>\n",
       "      <th>9.0</th>\n",
       "      <td>570</td>\n",
       "      <td>570</td>\n",
       "      <td>570</td>\n",
       "      <td>570</td>\n",
       "      <td>570</td>\n",
       "      <td>570</td>\n",
       "      <td>570</td>\n",
       "      <td>570</td>\n",
       "    </tr>\n",
       "    <tr>\n",
       "      <th>10.0</th>\n",
       "      <td>8</td>\n",
       "      <td>8</td>\n",
       "      <td>8</td>\n",
       "      <td>8</td>\n",
       "      <td>8</td>\n",
       "      <td>8</td>\n",
       "      <td>8</td>\n",
       "      <td>8</td>\n",
       "    </tr>\n",
       "  </tbody>\n",
       "</table>\n",
       "</div>"
      ],
      "text/plain": [
       "            name  character  role  title  type  release_year  genres  \\\n",
       "imdb_score                                                             \n",
       "2.0           24         24    24     24    24            24      24   \n",
       "3.0           27         27    27     27    27            27      27   \n",
       "4.0          195        195   195    195   195           195     195   \n",
       "5.0          592        592   592    592   592           592     592   \n",
       "6.0         2541       2541  2541   2541  2541          2541    2541   \n",
       "7.0         4744       4744  4744   4744  4744          4744    4744   \n",
       "8.0         4903       4903  4903   4903  4903          4903    4903   \n",
       "9.0          570        570   570    570   570           570     570   \n",
       "10.0           8          8     8      8     8             8       8   \n",
       "\n",
       "            imdb_votes  \n",
       "imdb_score              \n",
       "2.0                 24  \n",
       "3.0                 27  \n",
       "4.0                195  \n",
       "5.0                592  \n",
       "6.0               2541  \n",
       "7.0               4744  \n",
       "8.0               4903  \n",
       "9.0                570  \n",
       "10.0                 8  "
      ]
     },
     "execution_count": 22,
     "metadata": {},
     "output_type": "execute_result"
    }
   ],
   "source": [
    "# Use groupby() for scores and count all unique values in each group, print the result\n",
    "df.groupby('imdb_score').count()"
   ]
  },
  {
   "cell_type": "markdown",
   "id": "1ba6daae",
   "metadata": {},
   "source": [
    "Based on the aggregation performed, it is evident that scores 2 (24 voted shows), 3 (27 voted shows), and 10 (only 8 voted shows) are outliers. There isn't enough data for these scores for the average number of votes to be meaningful."
   ]
  },
  {
   "cell_type": "markdown",
   "id": "bd468c46",
   "metadata": {},
   "source": [
    "To obtain the mean numbers of votes for the selected scores (we identified a range of 4-9 as acceptable), use conditional filtering and grouping."
   ]
  },
  {
   "cell_type": "code",
   "execution_count": null,
   "id": "d1867e0e",
   "metadata": {
    "trusted": false
   },
   "outputs": [
    {
     "data": {
      "text/html": [
       "<div>\n",
       "<style scoped>\n",
       "    .dataframe tbody tr th:only-of-type {\n",
       "        vertical-align: middle;\n",
       "    }\n",
       "\n",
       "    .dataframe tbody tr th {\n",
       "        vertical-align: top;\n",
       "    }\n",
       "\n",
       "    .dataframe thead th {\n",
       "        text-align: right;\n",
       "    }\n",
       "</style>\n",
       "<table border=\"1\" class=\"dataframe\">\n",
       "  <thead>\n",
       "    <tr style=\"text-align: right;\">\n",
       "      <th></th>\n",
       "      <th>imdb_score</th>\n",
       "      <th>imdb_votes</th>\n",
       "    </tr>\n",
       "  </thead>\n",
       "  <tbody>\n",
       "    <tr>\n",
       "      <th>0</th>\n",
       "      <td>2.0</td>\n",
       "      <td>2058.500000</td>\n",
       "    </tr>\n",
       "    <tr>\n",
       "      <th>1</th>\n",
       "      <td>3.0</td>\n",
       "      <td>5641.185185</td>\n",
       "    </tr>\n",
       "    <tr>\n",
       "      <th>2</th>\n",
       "      <td>4.0</td>\n",
       "      <td>5562.600000</td>\n",
       "    </tr>\n",
       "    <tr>\n",
       "      <th>3</th>\n",
       "      <td>5.0</td>\n",
       "      <td>3143.942568</td>\n",
       "    </tr>\n",
       "    <tr>\n",
       "      <th>4</th>\n",
       "      <td>6.0</td>\n",
       "      <td>3566.232586</td>\n",
       "    </tr>\n",
       "    <tr>\n",
       "      <th>5</th>\n",
       "      <td>7.0</td>\n",
       "      <td>8790.115514</td>\n",
       "    </tr>\n",
       "    <tr>\n",
       "      <th>6</th>\n",
       "      <td>8.0</td>\n",
       "      <td>30214.953294</td>\n",
       "    </tr>\n",
       "    <tr>\n",
       "      <th>7</th>\n",
       "      <td>9.0</td>\n",
       "      <td>127631.222807</td>\n",
       "    </tr>\n",
       "  </tbody>\n",
       "</table>\n",
       "</div>"
      ],
      "text/plain": [
       "   imdb_score     imdb_votes\n",
       "0         2.0    2058.500000\n",
       "1         3.0    5641.185185\n",
       "2         4.0    5562.600000\n",
       "3         5.0    3143.942568\n",
       "4         6.0    3566.232586\n",
       "5         7.0    8790.115514\n",
       "6         8.0   30214.953294\n",
       "7         9.0  127631.222807"
      ]
     },
     "execution_count": 23,
     "metadata": {},
     "output_type": "execute_result"
    }
   ],
   "source": [
    "# filter dataframe using two conditions (scores to be in the range 4-9)\n",
    "new_df = df[df['imdb_score'] > 3]\n",
    "new_df = df[df['imdb_score'] < 10]\n",
    "\n",
    "# group scores and corresponding average number of votes, reset index and print the result\n",
    "avg_votes = new_df.groupby('imdb_score')['imdb_votes'].mean().reset_index()\n",
    "avg_votes\n",
    "#exo_number = exoplanet.groupby('discovered')['radius'].count()\n",
    "#exo_radius_sum = exoplanet.groupby('discovered')['radius'].sum()\n",
    "\n",
    "#exo_radius_mean = exo_radius_sum / exo_number"
   ]
  },
  {
   "cell_type": "markdown",
   "id": "96a66d14",
   "metadata": {},
   "source": [
    "Now for the final step! Round the column with the averages, rename both columns, and print the dataframe in descending order."
   ]
  },
  {
   "cell_type": "code",
   "execution_count": null,
   "id": "5999051b",
   "metadata": {
    "trusted": false
   },
   "outputs": [
    {
     "name": "stdout",
     "output_type": "stream",
     "text": [
      "                      name           character      role  \\\n",
      "20108         Natalia Dyer       Nancy Wheeler     ACTOR   \n",
      "20115          Paul Reiser           Sam Owens     ACTOR   \n",
      "20113       Priah Ferguson      Erica Sinclair     ACTOR   \n",
      "20112         Brett Gelman       Murray Bauman     ACTOR   \n",
      "20111           Maya Hawke       Robin Buckley     ACTOR   \n",
      "...                    ...                 ...       ...   \n",
      "72156        Toru Nakamura  Eiichi Higashiyama     ACTOR   \n",
      "72157      Teruyuki Kagawa    Y®suke Tadokoro     ACTOR   \n",
      "72158        Manabu Hamada       Satoshi Oribe     ACTOR   \n",
      "72159         Nobuhiro Doi             unknown  DIRECTOR   \n",
      "85437  Sarawut Wichiensarn             unknown  DIRECTOR   \n",
      "\n",
      "                             title  type  release_year  \\\n",
      "20108              Stranger Things  show          2016   \n",
      "20115              Stranger Things  show          2016   \n",
      "20113              Stranger Things  show          2016   \n",
      "20112              Stranger Things  show          2016   \n",
      "20111              Stranger Things  show          2016   \n",
      "...                            ...   ...           ...   \n",
      "72156  JAPAN SINKS: People of Hope  show          2021   \n",
      "72157  JAPAN SINKS: People of Hope  show          2021   \n",
      "72158  JAPAN SINKS: People of Hope  show          2021   \n",
      "72159  JAPAN SINKS: People of Hope  show          2021   \n",
      "85437                    Let's Eat  show          2021   \n",
      "\n",
      "                                                  genres  score    average  \n",
      "20108  ['scifi', 'thriller', 'drama', 'fantasy', 'hor...    9.0  1101055.0  \n",
      "20115  ['scifi', 'thriller', 'drama', 'fantasy', 'hor...    9.0  1101055.0  \n",
      "20113  ['scifi', 'thriller', 'drama', 'fantasy', 'hor...    9.0  1101055.0  \n",
      "20112  ['scifi', 'thriller', 'drama', 'fantasy', 'hor...    9.0  1101055.0  \n",
      "20111  ['scifi', 'thriller', 'drama', 'fantasy', 'hor...    9.0  1101055.0  \n",
      "...                                                  ...    ...        ...  \n",
      "72156                          ['scifi', 'war', 'drama']    6.0        5.0  \n",
      "72157                          ['scifi', 'war', 'drama']    6.0        5.0  \n",
      "72158                          ['scifi', 'war', 'drama']    6.0        5.0  \n",
      "72159                          ['scifi', 'war', 'drama']    6.0        5.0  \n",
      "85437                                ['drama', 'comedy']    8.0        5.0  \n",
      "\n",
      "[13596 rows x 9 columns]\n"
     ]
    },
    {
     "name": "stderr",
     "output_type": "stream",
     "text": [
      "/tmp/ipykernel_69/4132028697.py:2: SettingWithCopyWarning: \n",
      "A value is trying to be set on a copy of a slice from a DataFrame.\n",
      "Try using .loc[row_indexer,col_indexer] = value instead\n",
      "\n",
      "See the caveats in the documentation: https://pandas.pydata.org/pandas-docs/stable/user_guide/indexing.html#returning-a-view-versus-a-copy\n",
      "  new_df['imdb_score'] = new_df['imdb_score'].round()\n"
     ]
    }
   ],
   "source": [
    "# round column with averages\n",
    "new_df['imdb_score'] = new_df['imdb_score'].round()\n",
    "\n",
    "# rename columns\n",
    "new_df = new_df.rename(columns= {\n",
    "    'imdb_score': 'score',\n",
    "    'imdb_votes': 'average'\n",
    "})\n",
    "# print dataframe in descending order\n",
    "new_df.sort_values(by='average', ascending=False, inplace=True)\n",
    "print(new_df)"
   ]
  },
  {
   "cell_type": "markdown",
   "id": "87235f0e",
   "metadata": {},
   "source": [
    "<div class=\"alert alert-block alert-warning\"> <b>Reviewer's comment</b> <a \n",
    "class=\"tocSkip\"></a>\n",
    "It is better to use display instead of print for dataframes </div>"
   ]
  },
  {
   "cell_type": "markdown",
   "id": "af07386d",
   "metadata": {},
   "source": [
    "The assumption macthes the analysis: the shows with the top 3 scores have the most amounts of votes."
   ]
  },
  {
   "cell_type": "markdown",
   "id": "84e29a37",
   "metadata": {},
   "source": [
    "## Conclusion <a id='hypotheses'></a>"
   ]
  },
  {
   "cell_type": "markdown",
   "id": "984766a3",
   "metadata": {},
   "source": [
    "The research done confirms that highly-rated shows released during the \"Golden Age\" of television also have the most votes. While shows with score 4 have more votes than ones with scores 5 and 6, the top three (scores 7-9) have the largest number. The data studied represents around 94% of the original set, so we can be confident in our findings."
   ]
  },
  {
   "cell_type": "code",
   "execution_count": null,
   "id": "dfa46cc1",
   "metadata": {
    "trusted": false
   },
   "outputs": [],
   "source": []
  },
  {
   "cell_type": "code",
   "execution_count": null,
   "id": "971af1bd",
   "metadata": {
    "trusted": false
   },
   "outputs": [],
   "source": []
  }
 ],
 "metadata": {
  "ExecuteTimeLog": [
   {
    "duration": 272,
    "start_time": "2024-10-31T01:56:24.999Z"
   },
   {
    "duration": 136,
    "start_time": "2024-10-31T01:59:17.227Z"
   },
   {
    "duration": 175,
    "start_time": "2024-10-31T01:59:43.409Z"
   },
   {
    "duration": 3,
    "start_time": "2024-10-31T01:59:58.757Z"
   },
   {
    "duration": 14,
    "start_time": "2024-10-31T02:00:05.411Z"
   },
   {
    "duration": 9,
    "start_time": "2024-10-31T02:00:30.141Z"
   },
   {
    "duration": 10,
    "start_time": "2024-10-31T02:05:03.353Z"
   },
   {
    "duration": 10,
    "start_time": "2024-10-31T02:05:19.891Z"
   },
   {
    "duration": 9,
    "start_time": "2024-10-31T02:05:24.362Z"
   },
   {
    "duration": 4,
    "start_time": "2024-10-31T02:06:35.082Z"
   },
   {
    "duration": 4,
    "start_time": "2024-10-31T02:12:50.610Z"
   },
   {
    "duration": 4,
    "start_time": "2024-10-31T02:13:03.125Z"
   },
   {
    "duration": 2,
    "start_time": "2024-10-31T02:13:11.183Z"
   },
   {
    "duration": 117,
    "start_time": "2024-10-31T02:13:11.187Z"
   },
   {
    "duration": 10,
    "start_time": "2024-10-31T02:13:11.305Z"
   },
   {
    "duration": 8,
    "start_time": "2024-10-31T02:13:11.323Z"
   },
   {
    "duration": 4,
    "start_time": "2024-10-31T02:13:11.332Z"
   },
   {
    "duration": 5,
    "start_time": "2024-10-31T02:13:11.338Z"
   },
   {
    "duration": 3,
    "start_time": "2024-10-31T02:13:46.610Z"
   },
   {
    "duration": 117,
    "start_time": "2024-10-31T02:13:46.615Z"
   },
   {
    "duration": 10,
    "start_time": "2024-10-31T02:13:46.734Z"
   },
   {
    "duration": 8,
    "start_time": "2024-10-31T02:13:46.747Z"
   },
   {
    "duration": 4,
    "start_time": "2024-10-31T02:13:46.756Z"
   },
   {
    "duration": 5,
    "start_time": "2024-10-31T02:13:46.762Z"
   },
   {
    "duration": 3,
    "start_time": "2024-10-31T02:13:53.469Z"
   },
   {
    "duration": 3,
    "start_time": "2024-10-31T02:14:28.064Z"
   },
   {
    "duration": 3,
    "start_time": "2024-10-31T02:14:30.515Z"
   },
   {
    "duration": 4,
    "start_time": "2024-10-31T02:14:49.490Z"
   },
   {
    "duration": 6,
    "start_time": "2024-10-31T02:15:02.626Z"
   },
   {
    "duration": 4,
    "start_time": "2024-10-31T02:15:04.238Z"
   },
   {
    "duration": 18,
    "start_time": "2024-10-31T02:16:42.118Z"
   },
   {
    "duration": 18,
    "start_time": "2024-10-31T02:21:21.272Z"
   },
   {
    "duration": 29,
    "start_time": "2024-10-31T02:21:22.897Z"
   },
   {
    "duration": 17,
    "start_time": "2024-10-31T02:21:24.355Z"
   },
   {
    "duration": 12,
    "start_time": "2024-10-31T02:24:35.320Z"
   },
   {
    "duration": 12,
    "start_time": "2024-10-31T02:25:35.600Z"
   },
   {
    "duration": 3,
    "start_time": "2024-10-31T02:25:57.561Z"
   },
   {
    "duration": 12,
    "start_time": "2024-10-31T02:26:06.541Z"
   },
   {
    "duration": 72,
    "start_time": "2024-10-31T02:27:26.628Z"
   },
   {
    "duration": 37,
    "start_time": "2024-10-31T02:27:37.440Z"
   },
   {
    "duration": 37,
    "start_time": "2024-10-31T02:27:40.315Z"
   },
   {
    "duration": 9,
    "start_time": "2024-10-31T02:28:07.178Z"
   },
   {
    "duration": 8,
    "start_time": "2024-10-31T02:29:31.364Z"
   },
   {
    "duration": 8,
    "start_time": "2024-10-31T02:30:36.081Z"
   },
   {
    "duration": 3,
    "start_time": "2024-10-31T02:31:43.915Z"
   },
   {
    "duration": 111,
    "start_time": "2024-10-31T02:31:43.920Z"
   },
   {
    "duration": 12,
    "start_time": "2024-10-31T02:31:44.035Z"
   },
   {
    "duration": 8,
    "start_time": "2024-10-31T02:31:44.049Z"
   },
   {
    "duration": 4,
    "start_time": "2024-10-31T02:31:44.061Z"
   },
   {
    "duration": 7,
    "start_time": "2024-10-31T02:31:44.066Z"
   },
   {
    "duration": 4,
    "start_time": "2024-10-31T02:31:44.075Z"
   },
   {
    "duration": 19,
    "start_time": "2024-10-31T02:31:44.080Z"
   },
   {
    "duration": 23,
    "start_time": "2024-10-31T02:31:44.125Z"
   },
   {
    "duration": 16,
    "start_time": "2024-10-31T02:31:44.150Z"
   },
   {
    "duration": 56,
    "start_time": "2024-10-31T02:31:44.168Z"
   },
   {
    "duration": 11,
    "start_time": "2024-10-31T02:31:44.226Z"
   },
   {
    "duration": 3,
    "start_time": "2024-10-31T02:31:44.239Z"
   },
   {
    "duration": 2,
    "start_time": "2024-10-31T02:31:44.246Z"
   },
   {
    "duration": 2,
    "start_time": "2024-10-31T02:31:44.250Z"
   },
   {
    "duration": 4,
    "start_time": "2024-10-31T02:31:44.254Z"
   },
   {
    "duration": 2,
    "start_time": "2024-10-31T02:31:44.261Z"
   },
   {
    "duration": 4,
    "start_time": "2024-10-31T02:31:44.264Z"
   },
   {
    "duration": 3,
    "start_time": "2024-10-31T02:31:44.269Z"
   },
   {
    "duration": 3,
    "start_time": "2024-10-31T02:31:44.274Z"
   },
   {
    "duration": 45,
    "start_time": "2024-10-31T02:31:44.279Z"
   },
   {
    "duration": 2,
    "start_time": "2024-10-31T02:31:44.327Z"
   },
   {
    "duration": 3,
    "start_time": "2024-10-31T02:31:44.331Z"
   },
   {
    "duration": 3,
    "start_time": "2024-10-31T02:31:44.335Z"
   },
   {
    "duration": 6,
    "start_time": "2024-10-31T02:35:43.241Z"
   },
   {
    "duration": 46,
    "start_time": "2024-10-31T02:35:49.555Z"
   },
   {
    "duration": 12,
    "start_time": "2024-10-31T02:37:53.513Z"
   },
   {
    "duration": 43,
    "start_time": "2024-10-31T02:40:47.207Z"
   },
   {
    "duration": 3,
    "start_time": "2024-10-31T02:40:58.683Z"
   },
   {
    "duration": 8,
    "start_time": "2024-10-31T02:41:12.323Z"
   },
   {
    "duration": 4,
    "start_time": "2024-10-31T02:41:27.019Z"
   },
   {
    "duration": 39,
    "start_time": "2024-10-31T02:46:37.384Z"
   },
   {
    "duration": 4,
    "start_time": "2024-10-31T02:46:43.667Z"
   },
   {
    "duration": 41,
    "start_time": "2024-10-31T02:51:10.250Z"
   },
   {
    "duration": 12,
    "start_time": "2024-10-31T02:51:25.906Z"
   },
   {
    "duration": 3,
    "start_time": "2024-10-31T02:51:28.613Z"
   },
   {
    "duration": 11,
    "start_time": "2024-10-31T02:52:34.371Z"
   },
   {
    "duration": 13,
    "start_time": "2024-10-31T02:52:46.629Z"
   },
   {
    "duration": 11,
    "start_time": "2024-10-31T02:52:54.525Z"
   },
   {
    "duration": 12,
    "start_time": "2024-10-31T02:54:37.569Z"
   },
   {
    "duration": 12,
    "start_time": "2024-10-31T02:54:46.480Z"
   },
   {
    "duration": 11,
    "start_time": "2024-10-31T02:56:35.949Z"
   },
   {
    "duration": 12,
    "start_time": "2024-10-31T02:56:39.907Z"
   },
   {
    "duration": 42,
    "start_time": "2024-10-31T02:56:43.570Z"
   },
   {
    "duration": 49,
    "start_time": "2024-10-31T03:11:48.972Z"
   },
   {
    "duration": 47,
    "start_time": "2024-10-31T03:14:00.092Z"
   },
   {
    "duration": 54,
    "start_time": "2024-10-31T03:14:14.257Z"
   },
   {
    "duration": 53,
    "start_time": "2024-10-31T03:15:49.120Z"
   },
   {
    "duration": 157,
    "start_time": "2024-10-31T05:05:37.297Z"
   },
   {
    "duration": 13,
    "start_time": "2024-10-31T05:06:03.356Z"
   },
   {
    "duration": 12,
    "start_time": "2024-10-31T05:06:39.108Z"
   },
   {
    "duration": 12,
    "start_time": "2024-10-31T05:07:00.532Z"
   },
   {
    "duration": 11,
    "start_time": "2024-10-31T05:09:44.274Z"
   },
   {
    "duration": 12,
    "start_time": "2024-10-31T05:10:12.049Z"
   },
   {
    "duration": 155,
    "start_time": "2024-10-31T05:11:08.290Z"
   },
   {
    "duration": 12,
    "start_time": "2024-10-31T05:11:13.640Z"
   },
   {
    "duration": 2,
    "start_time": "2024-10-31T05:11:17.844Z"
   },
   {
    "duration": 11,
    "start_time": "2024-10-31T05:11:47.638Z"
   },
   {
    "duration": 12,
    "start_time": "2024-10-31T05:11:55.032Z"
   },
   {
    "duration": 11,
    "start_time": "2024-10-31T05:11:56.844Z"
   },
   {
    "duration": 11,
    "start_time": "2024-10-31T05:12:33.869Z"
   },
   {
    "duration": 12,
    "start_time": "2024-10-31T05:12:36.270Z"
   },
   {
    "duration": 339,
    "start_time": "2024-10-31T05:12:51.146Z"
   },
   {
    "duration": 143,
    "start_time": "2024-10-31T05:12:52.446Z"
   },
   {
    "duration": 14,
    "start_time": "2024-10-31T05:12:53.252Z"
   },
   {
    "duration": 9,
    "start_time": "2024-10-31T05:12:54.119Z"
   },
   {
    "duration": 5,
    "start_time": "2024-10-31T05:12:56.453Z"
   },
   {
    "duration": 5,
    "start_time": "2024-10-31T05:12:59.801Z"
   },
   {
    "duration": 3,
    "start_time": "2024-10-31T05:13:01.160Z"
   },
   {
    "duration": 18,
    "start_time": "2024-10-31T05:13:04.675Z"
   },
   {
    "duration": 29,
    "start_time": "2024-10-31T05:13:05.797Z"
   },
   {
    "duration": 19,
    "start_time": "2024-10-31T05:13:07.667Z"
   },
   {
    "duration": 42,
    "start_time": "2024-10-31T05:13:09.824Z"
   },
   {
    "duration": 55,
    "start_time": "2024-10-31T05:14:26.654Z"
   },
   {
    "duration": 50,
    "start_time": "2024-10-31T05:15:31.194Z"
   },
   {
    "duration": 49,
    "start_time": "2024-10-31T05:16:24.852Z"
   },
   {
    "duration": 47,
    "start_time": "2024-10-31T05:16:35.247Z"
   },
   {
    "duration": 45,
    "start_time": "2024-10-31T05:17:01.617Z"
   },
   {
    "duration": 18,
    "start_time": "2024-10-31T05:19:53.488Z"
   },
   {
    "duration": 17,
    "start_time": "2024-10-31T05:20:17.868Z"
   },
   {
    "duration": 2,
    "start_time": "2024-10-31T05:21:15.115Z"
   },
   {
    "duration": 122,
    "start_time": "2024-10-31T05:21:15.119Z"
   },
   {
    "duration": 9,
    "start_time": "2024-10-31T05:21:15.348Z"
   },
   {
    "duration": 7,
    "start_time": "2024-10-31T05:21:15.360Z"
   },
   {
    "duration": 3,
    "start_time": "2024-10-31T05:21:15.369Z"
   },
   {
    "duration": 6,
    "start_time": "2024-10-31T05:21:15.374Z"
   },
   {
    "duration": 4,
    "start_time": "2024-10-31T05:21:15.382Z"
   },
   {
    "duration": 19,
    "start_time": "2024-10-31T05:21:17.376Z"
   },
   {
    "duration": 25,
    "start_time": "2024-10-31T05:21:27.025Z"
   },
   {
    "duration": 17,
    "start_time": "2024-10-31T05:21:38.181Z"
   },
   {
    "duration": 41,
    "start_time": "2024-10-31T05:21:49.327Z"
   },
   {
    "duration": 353,
    "start_time": "2024-10-31T05:22:34.107Z"
   },
   {
    "duration": 45,
    "start_time": "2024-10-31T05:22:41.780Z"
   },
   {
    "duration": 45,
    "start_time": "2024-10-31T05:25:56.297Z"
   },
   {
    "duration": 58,
    "start_time": "2024-10-31T05:28:38.641Z"
   },
   {
    "duration": 16,
    "start_time": "2024-10-31T05:29:24.383Z"
   },
   {
    "duration": 55,
    "start_time": "2024-10-31T05:30:03.227Z"
   },
   {
    "duration": 49,
    "start_time": "2024-10-31T05:44:37.137Z"
   },
   {
    "duration": 49,
    "start_time": "2024-10-31T05:45:12.549Z"
   },
   {
    "duration": 42,
    "start_time": "2024-10-31T05:46:28.897Z"
   },
   {
    "duration": 3,
    "start_time": "2024-10-31T05:46:32.435Z"
   },
   {
    "duration": 114,
    "start_time": "2024-10-31T05:46:32.440Z"
   },
   {
    "duration": 10,
    "start_time": "2024-10-31T05:46:32.556Z"
   },
   {
    "duration": 8,
    "start_time": "2024-10-31T05:46:32.568Z"
   },
   {
    "duration": 5,
    "start_time": "2024-10-31T05:46:32.578Z"
   },
   {
    "duration": 6,
    "start_time": "2024-10-31T05:46:32.584Z"
   },
   {
    "duration": 4,
    "start_time": "2024-10-31T05:46:32.592Z"
   },
   {
    "duration": 48,
    "start_time": "2024-10-31T05:46:32.598Z"
   },
   {
    "duration": 24,
    "start_time": "2024-10-31T05:46:32.647Z"
   },
   {
    "duration": 17,
    "start_time": "2024-10-31T05:46:32.673Z"
   },
   {
    "duration": 57,
    "start_time": "2024-10-31T05:46:32.692Z"
   },
   {
    "duration": 39,
    "start_time": "2024-10-31T05:46:34.588Z"
   },
   {
    "duration": 43,
    "start_time": "2024-10-31T05:46:36.007Z"
   },
   {
    "duration": 2,
    "start_time": "2024-10-31T05:46:59.081Z"
   },
   {
    "duration": 3,
    "start_time": "2024-10-31T05:47:21.312Z"
   },
   {
    "duration": 113,
    "start_time": "2024-10-31T05:47:21.317Z"
   },
   {
    "duration": 11,
    "start_time": "2024-10-31T05:47:21.432Z"
   },
   {
    "duration": 8,
    "start_time": "2024-10-31T05:47:21.445Z"
   },
   {
    "duration": 3,
    "start_time": "2024-10-31T05:47:21.456Z"
   },
   {
    "duration": 5,
    "start_time": "2024-10-31T05:47:21.461Z"
   },
   {
    "duration": 4,
    "start_time": "2024-10-31T05:47:21.467Z"
   },
   {
    "duration": 18,
    "start_time": "2024-10-31T05:47:21.473Z"
   },
   {
    "duration": 58,
    "start_time": "2024-10-31T05:47:21.492Z"
   },
   {
    "duration": 16,
    "start_time": "2024-10-31T05:47:21.552Z"
   },
   {
    "duration": 39,
    "start_time": "2024-10-31T05:47:22.991Z"
   },
   {
    "duration": 43,
    "start_time": "2024-10-31T05:47:23.800Z"
   },
   {
    "duration": 18,
    "start_time": "2024-10-31T05:47:52.343Z"
   },
   {
    "duration": 13,
    "start_time": "2024-10-31T05:49:44.017Z"
   },
   {
    "duration": 50,
    "start_time": "2024-10-31T05:49:53.362Z"
   },
   {
    "duration": 38,
    "start_time": "2024-10-31T05:50:10.779Z"
   },
   {
    "duration": 2,
    "start_time": "2024-10-31T05:50:22.270Z"
   },
   {
    "duration": 114,
    "start_time": "2024-10-31T05:50:22.274Z"
   },
   {
    "duration": 10,
    "start_time": "2024-10-31T05:50:22.390Z"
   },
   {
    "duration": 7,
    "start_time": "2024-10-31T05:50:22.401Z"
   },
   {
    "duration": 3,
    "start_time": "2024-10-31T05:50:22.411Z"
   },
   {
    "duration": 27,
    "start_time": "2024-10-31T05:50:22.416Z"
   },
   {
    "duration": 3,
    "start_time": "2024-10-31T05:50:22.445Z"
   },
   {
    "duration": 18,
    "start_time": "2024-10-31T05:50:22.449Z"
   },
   {
    "duration": 23,
    "start_time": "2024-10-31T05:50:22.469Z"
   },
   {
    "duration": 16,
    "start_time": "2024-10-31T05:50:22.494Z"
   },
   {
    "duration": 63,
    "start_time": "2024-10-31T05:50:22.513Z"
   },
   {
    "duration": 16,
    "start_time": "2024-10-31T05:50:23.658Z"
   },
   {
    "duration": 49,
    "start_time": "2024-10-31T05:50:24.736Z"
   },
   {
    "duration": 4,
    "start_time": "2024-10-31T05:51:29.193Z"
   },
   {
    "duration": 7,
    "start_time": "2024-10-31T05:52:07.238Z"
   },
   {
    "duration": 11,
    "start_time": "2024-10-31T05:52:10.743Z"
   },
   {
    "duration": 321,
    "start_time": "2024-10-31T05:57:16.620Z"
   },
   {
    "duration": 2,
    "start_time": "2024-10-31T05:58:18.228Z"
   },
   {
    "duration": 108,
    "start_time": "2024-10-31T05:58:18.237Z"
   },
   {
    "duration": 10,
    "start_time": "2024-10-31T05:58:18.348Z"
   },
   {
    "duration": 8,
    "start_time": "2024-10-31T05:58:18.359Z"
   },
   {
    "duration": 4,
    "start_time": "2024-10-31T05:58:18.369Z"
   },
   {
    "duration": 6,
    "start_time": "2024-10-31T05:58:18.376Z"
   },
   {
    "duration": 3,
    "start_time": "2024-10-31T05:58:18.384Z"
   },
   {
    "duration": 17,
    "start_time": "2024-10-31T05:58:18.389Z"
   },
   {
    "duration": 22,
    "start_time": "2024-10-31T05:58:18.442Z"
   },
   {
    "duration": 16,
    "start_time": "2024-10-31T05:58:18.465Z"
   },
   {
    "duration": 37,
    "start_time": "2024-10-31T05:58:18.483Z"
   },
   {
    "duration": 31,
    "start_time": "2024-10-31T05:58:18.522Z"
   },
   {
    "duration": 7,
    "start_time": "2024-10-31T05:58:18.554Z"
   },
   {
    "duration": 7,
    "start_time": "2024-10-31T05:58:18.563Z"
   },
   {
    "duration": 39,
    "start_time": "2024-10-31T05:58:22.403Z"
   },
   {
    "duration": 37,
    "start_time": "2024-10-31T05:58:56.037Z"
   },
   {
    "duration": 8,
    "start_time": "2024-10-31T05:59:02.702Z"
   },
   {
    "duration": 40,
    "start_time": "2024-10-31T06:02:21.399Z"
   },
   {
    "duration": 2,
    "start_time": "2024-10-31T06:03:14.827Z"
   },
   {
    "duration": 113,
    "start_time": "2024-10-31T06:03:14.831Z"
   },
   {
    "duration": 10,
    "start_time": "2024-10-31T06:03:14.945Z"
   },
   {
    "duration": 8,
    "start_time": "2024-10-31T06:03:14.957Z"
   },
   {
    "duration": 4,
    "start_time": "2024-10-31T06:03:14.967Z"
   },
   {
    "duration": 6,
    "start_time": "2024-10-31T06:03:14.973Z"
   },
   {
    "duration": 3,
    "start_time": "2024-10-31T06:03:14.981Z"
   },
   {
    "duration": 18,
    "start_time": "2024-10-31T06:03:14.986Z"
   },
   {
    "duration": 58,
    "start_time": "2024-10-31T06:03:15.006Z"
   },
   {
    "duration": 17,
    "start_time": "2024-10-31T06:03:15.066Z"
   },
   {
    "duration": 38,
    "start_time": "2024-10-31T06:03:15.085Z"
   },
   {
    "duration": 28,
    "start_time": "2024-10-31T06:03:15.125Z"
   },
   {
    "duration": 9,
    "start_time": "2024-10-31T06:03:15.154Z"
   },
   {
    "duration": 9,
    "start_time": "2024-10-31T06:03:15.165Z"
   },
   {
    "duration": 38,
    "start_time": "2024-10-31T06:03:17.739Z"
   },
   {
    "duration": 2,
    "start_time": "2024-10-31T06:03:24.041Z"
   },
   {
    "duration": 20,
    "start_time": "2024-10-31T06:03:39.480Z"
   },
   {
    "duration": 16,
    "start_time": "2024-10-31T06:03:47.780Z"
   },
   {
    "duration": 3,
    "start_time": "2024-10-31T06:03:51.808Z"
   },
   {
    "duration": 112,
    "start_time": "2024-10-31T06:03:51.814Z"
   },
   {
    "duration": 11,
    "start_time": "2024-10-31T06:03:51.928Z"
   },
   {
    "duration": 7,
    "start_time": "2024-10-31T06:03:51.942Z"
   },
   {
    "duration": 3,
    "start_time": "2024-10-31T06:03:51.953Z"
   },
   {
    "duration": 6,
    "start_time": "2024-10-31T06:03:51.958Z"
   },
   {
    "duration": 3,
    "start_time": "2024-10-31T06:03:51.966Z"
   },
   {
    "duration": 19,
    "start_time": "2024-10-31T06:03:51.970Z"
   },
   {
    "duration": 57,
    "start_time": "2024-10-31T06:03:51.990Z"
   },
   {
    "duration": 16,
    "start_time": "2024-10-31T06:03:52.049Z"
   },
   {
    "duration": 39,
    "start_time": "2024-10-31T06:03:52.067Z"
   },
   {
    "duration": 34,
    "start_time": "2024-10-31T06:03:52.108Z"
   },
   {
    "duration": 9,
    "start_time": "2024-10-31T06:03:52.146Z"
   },
   {
    "duration": 8,
    "start_time": "2024-10-31T06:03:52.156Z"
   },
   {
    "duration": 17,
    "start_time": "2024-10-31T06:03:52.166Z"
   },
   {
    "duration": 0,
    "start_time": "2024-10-31T06:03:52.184Z"
   },
   {
    "duration": 0,
    "start_time": "2024-10-31T06:03:52.186Z"
   },
   {
    "duration": 0,
    "start_time": "2024-10-31T06:03:52.187Z"
   },
   {
    "duration": 0,
    "start_time": "2024-10-31T06:03:52.188Z"
   },
   {
    "duration": 0,
    "start_time": "2024-10-31T06:03:52.189Z"
   },
   {
    "duration": 0,
    "start_time": "2024-10-31T06:03:52.190Z"
   },
   {
    "duration": 0,
    "start_time": "2024-10-31T06:03:52.191Z"
   },
   {
    "duration": 0,
    "start_time": "2024-10-31T06:03:52.192Z"
   },
   {
    "duration": 0,
    "start_time": "2024-10-31T06:03:52.193Z"
   },
   {
    "duration": 3,
    "start_time": "2024-10-31T06:04:01.630Z"
   },
   {
    "duration": 114,
    "start_time": "2024-10-31T06:04:01.908Z"
   },
   {
    "duration": 10,
    "start_time": "2024-10-31T06:04:02.289Z"
   },
   {
    "duration": 9,
    "start_time": "2024-10-31T06:04:02.686Z"
   },
   {
    "duration": 4,
    "start_time": "2024-10-31T06:04:03.402Z"
   },
   {
    "duration": 5,
    "start_time": "2024-10-31T06:04:03.924Z"
   },
   {
    "duration": 4,
    "start_time": "2024-10-31T06:04:04.170Z"
   },
   {
    "duration": 19,
    "start_time": "2024-10-31T06:04:04.623Z"
   },
   {
    "duration": 28,
    "start_time": "2024-10-31T06:04:05.170Z"
   },
   {
    "duration": 17,
    "start_time": "2024-10-31T06:04:05.952Z"
   },
   {
    "duration": 40,
    "start_time": "2024-10-31T06:04:06.474Z"
   },
   {
    "duration": 16,
    "start_time": "2024-10-31T06:04:07.006Z"
   },
   {
    "duration": 8,
    "start_time": "2024-10-31T06:04:08.631Z"
   },
   {
    "duration": 9,
    "start_time": "2024-10-31T06:04:10.018Z"
   },
   {
    "duration": 18,
    "start_time": "2024-10-31T06:04:12.263Z"
   },
   {
    "duration": 40,
    "start_time": "2024-10-31T06:06:03.800Z"
   },
   {
    "duration": 307,
    "start_time": "2024-10-31T06:06:17.542Z"
   },
   {
    "duration": 124,
    "start_time": "2024-10-31T06:06:17.852Z"
   },
   {
    "duration": 13,
    "start_time": "2024-10-31T06:06:17.978Z"
   },
   {
    "duration": 9,
    "start_time": "2024-10-31T06:06:17.992Z"
   },
   {
    "duration": 4,
    "start_time": "2024-10-31T06:06:18.004Z"
   },
   {
    "duration": 5,
    "start_time": "2024-10-31T06:06:18.010Z"
   },
   {
    "duration": 4,
    "start_time": "2024-10-31T06:06:18.043Z"
   },
   {
    "duration": 20,
    "start_time": "2024-10-31T06:06:18.048Z"
   },
   {
    "duration": 28,
    "start_time": "2024-10-31T06:06:18.070Z"
   },
   {
    "duration": 43,
    "start_time": "2024-10-31T06:06:18.100Z"
   },
   {
    "duration": 45,
    "start_time": "2024-10-31T06:06:18.145Z"
   },
   {
    "duration": 17,
    "start_time": "2024-10-31T06:06:18.191Z"
   },
   {
    "duration": 9,
    "start_time": "2024-10-31T06:06:18.209Z"
   },
   {
    "duration": 12,
    "start_time": "2024-10-31T06:06:18.242Z"
   },
   {
    "duration": 511,
    "start_time": "2024-10-31T06:06:18.256Z"
   },
   {
    "duration": 0,
    "start_time": "2024-10-31T06:06:18.769Z"
   },
   {
    "duration": 0,
    "start_time": "2024-10-31T06:06:18.770Z"
   },
   {
    "duration": 0,
    "start_time": "2024-10-31T06:06:18.771Z"
   },
   {
    "duration": 0,
    "start_time": "2024-10-31T06:06:18.773Z"
   },
   {
    "duration": 0,
    "start_time": "2024-10-31T06:06:18.774Z"
   },
   {
    "duration": 0,
    "start_time": "2024-10-31T06:06:18.775Z"
   },
   {
    "duration": 0,
    "start_time": "2024-10-31T06:06:18.776Z"
   },
   {
    "duration": 0,
    "start_time": "2024-10-31T06:06:18.777Z"
   },
   {
    "duration": 0,
    "start_time": "2024-10-31T06:06:18.778Z"
   },
   {
    "duration": 39,
    "start_time": "2024-10-31T06:07:06.370Z"
   },
   {
    "duration": 8,
    "start_time": "2024-10-31T06:07:13.630Z"
   },
   {
    "duration": 38,
    "start_time": "2024-10-31T06:07:15.611Z"
   },
   {
    "duration": 2,
    "start_time": "2024-10-31T06:07:20.575Z"
   },
   {
    "duration": 115,
    "start_time": "2024-10-31T06:07:20.580Z"
   },
   {
    "duration": 11,
    "start_time": "2024-10-31T06:07:20.696Z"
   },
   {
    "duration": 7,
    "start_time": "2024-10-31T06:07:20.709Z"
   },
   {
    "duration": 3,
    "start_time": "2024-10-31T06:07:20.720Z"
   },
   {
    "duration": 9,
    "start_time": "2024-10-31T06:07:20.743Z"
   },
   {
    "duration": 4,
    "start_time": "2024-10-31T06:07:20.754Z"
   },
   {
    "duration": 18,
    "start_time": "2024-10-31T06:07:20.760Z"
   },
   {
    "duration": 24,
    "start_time": "2024-10-31T06:07:20.780Z"
   },
   {
    "duration": 43,
    "start_time": "2024-10-31T06:07:20.806Z"
   },
   {
    "duration": 45,
    "start_time": "2024-10-31T06:07:20.851Z"
   },
   {
    "duration": 16,
    "start_time": "2024-10-31T06:07:20.897Z"
   },
   {
    "duration": 28,
    "start_time": "2024-10-31T06:07:20.915Z"
   },
   {
    "duration": 12,
    "start_time": "2024-10-31T06:07:20.947Z"
   },
   {
    "duration": 40,
    "start_time": "2024-10-31T06:07:20.961Z"
   },
   {
    "duration": 0,
    "start_time": "2024-10-31T06:07:21.003Z"
   },
   {
    "duration": 0,
    "start_time": "2024-10-31T06:07:21.004Z"
   },
   {
    "duration": 0,
    "start_time": "2024-10-31T06:07:21.006Z"
   },
   {
    "duration": 0,
    "start_time": "2024-10-31T06:07:21.007Z"
   },
   {
    "duration": 0,
    "start_time": "2024-10-31T06:07:21.009Z"
   },
   {
    "duration": 0,
    "start_time": "2024-10-31T06:07:21.010Z"
   },
   {
    "duration": 0,
    "start_time": "2024-10-31T06:07:21.043Z"
   },
   {
    "duration": 0,
    "start_time": "2024-10-31T06:07:21.044Z"
   },
   {
    "duration": 0,
    "start_time": "2024-10-31T06:07:21.045Z"
   },
   {
    "duration": 13,
    "start_time": "2024-10-31T06:07:44.581Z"
   },
   {
    "duration": 5,
    "start_time": "2024-10-31T06:07:47.141Z"
   },
   {
    "duration": 5,
    "start_time": "2024-10-31T06:07:51.571Z"
   },
   {
    "duration": 2,
    "start_time": "2024-10-31T06:07:56.773Z"
   },
   {
    "duration": 113,
    "start_time": "2024-10-31T06:07:56.777Z"
   },
   {
    "duration": 10,
    "start_time": "2024-10-31T06:07:56.892Z"
   },
   {
    "duration": 8,
    "start_time": "2024-10-31T06:07:56.904Z"
   },
   {
    "duration": 3,
    "start_time": "2024-10-31T06:07:56.914Z"
   },
   {
    "duration": 5,
    "start_time": "2024-10-31T06:07:56.919Z"
   },
   {
    "duration": 18,
    "start_time": "2024-10-31T06:07:56.925Z"
   },
   {
    "duration": 18,
    "start_time": "2024-10-31T06:07:56.945Z"
   },
   {
    "duration": 23,
    "start_time": "2024-10-31T06:07:56.965Z"
   },
   {
    "duration": 17,
    "start_time": "2024-10-31T06:07:56.990Z"
   },
   {
    "duration": 65,
    "start_time": "2024-10-31T06:07:57.011Z"
   },
   {
    "duration": 16,
    "start_time": "2024-10-31T06:07:57.078Z"
   },
   {
    "duration": 7,
    "start_time": "2024-10-31T06:07:57.096Z"
   },
   {
    "duration": 8,
    "start_time": "2024-10-31T06:07:57.104Z"
   },
   {
    "duration": 63,
    "start_time": "2024-10-31T06:07:57.113Z"
   },
   {
    "duration": 0,
    "start_time": "2024-10-31T06:07:57.177Z"
   },
   {
    "duration": 0,
    "start_time": "2024-10-31T06:07:57.178Z"
   },
   {
    "duration": 0,
    "start_time": "2024-10-31T06:07:57.179Z"
   },
   {
    "duration": 0,
    "start_time": "2024-10-31T06:07:57.180Z"
   },
   {
    "duration": 0,
    "start_time": "2024-10-31T06:07:57.182Z"
   },
   {
    "duration": 0,
    "start_time": "2024-10-31T06:07:57.183Z"
   },
   {
    "duration": 0,
    "start_time": "2024-10-31T06:07:57.184Z"
   },
   {
    "duration": 0,
    "start_time": "2024-10-31T06:07:57.185Z"
   },
   {
    "duration": 0,
    "start_time": "2024-10-31T06:07:57.186Z"
   },
   {
    "duration": 3,
    "start_time": "2024-10-31T06:08:01.235Z"
   },
   {
    "duration": 119,
    "start_time": "2024-10-31T06:08:01.518Z"
   },
   {
    "duration": 11,
    "start_time": "2024-10-31T06:08:01.891Z"
   },
   {
    "duration": 9,
    "start_time": "2024-10-31T06:08:02.482Z"
   },
   {
    "duration": 4,
    "start_time": "2024-10-31T06:08:03.024Z"
   },
   {
    "duration": 6,
    "start_time": "2024-10-31T06:08:03.723Z"
   },
   {
    "duration": 3,
    "start_time": "2024-10-31T06:08:04.156Z"
   },
   {
    "duration": 18,
    "start_time": "2024-10-31T06:08:04.777Z"
   },
   {
    "duration": 24,
    "start_time": "2024-10-31T06:08:05.427Z"
   },
   {
    "duration": 17,
    "start_time": "2024-10-31T06:08:06.068Z"
   },
   {
    "duration": 41,
    "start_time": "2024-10-31T06:08:06.717Z"
   },
   {
    "duration": 16,
    "start_time": "2024-10-31T06:08:07.258Z"
   },
   {
    "duration": 8,
    "start_time": "2024-10-31T06:08:07.789Z"
   },
   {
    "duration": 11,
    "start_time": "2024-10-31T06:08:08.380Z"
   },
   {
    "duration": 39,
    "start_time": "2024-10-31T06:08:09.355Z"
   },
   {
    "duration": 14,
    "start_time": "2024-10-31T06:08:28.751Z"
   },
   {
    "duration": 39,
    "start_time": "2024-10-31T06:09:49.501Z"
   },
   {
    "duration": 11,
    "start_time": "2024-10-31T06:10:15.713Z"
   },
   {
    "duration": 40,
    "start_time": "2024-10-31T06:10:22.269Z"
   },
   {
    "duration": 11,
    "start_time": "2024-10-31T06:10:42.514Z"
   },
   {
    "duration": 11,
    "start_time": "2024-10-31T06:10:46.898Z"
   },
   {
    "duration": 2,
    "start_time": "2024-10-31T06:10:49.120Z"
   },
   {
    "duration": 3,
    "start_time": "2024-10-31T06:11:00.849Z"
   },
   {
    "duration": 119,
    "start_time": "2024-10-31T06:11:00.855Z"
   },
   {
    "duration": 10,
    "start_time": "2024-10-31T06:11:00.976Z"
   },
   {
    "duration": 8,
    "start_time": "2024-10-31T06:11:00.988Z"
   },
   {
    "duration": 3,
    "start_time": "2024-10-31T06:11:00.999Z"
   },
   {
    "duration": 7,
    "start_time": "2024-10-31T06:11:01.004Z"
   },
   {
    "duration": 4,
    "start_time": "2024-10-31T06:11:01.012Z"
   },
   {
    "duration": 21,
    "start_time": "2024-10-31T06:11:01.043Z"
   },
   {
    "duration": 23,
    "start_time": "2024-10-31T06:11:01.065Z"
   },
   {
    "duration": 17,
    "start_time": "2024-10-31T06:11:01.089Z"
   },
   {
    "duration": 71,
    "start_time": "2024-10-31T06:11:01.108Z"
   },
   {
    "duration": 16,
    "start_time": "2024-10-31T06:11:01.181Z"
   },
   {
    "duration": 8,
    "start_time": "2024-10-31T06:11:01.198Z"
   },
   {
    "duration": 7,
    "start_time": "2024-10-31T06:11:01.209Z"
   },
   {
    "duration": 11,
    "start_time": "2024-10-31T06:11:02.835Z"
   },
   {
    "duration": 5,
    "start_time": "2024-10-31T06:11:10.475Z"
   },
   {
    "duration": 38,
    "start_time": "2024-10-31T06:12:19.882Z"
   },
   {
    "duration": 9,
    "start_time": "2024-10-31T06:12:23.220Z"
   },
   {
    "duration": 37,
    "start_time": "2024-10-31T06:12:32.711Z"
   },
   {
    "duration": 8,
    "start_time": "2024-10-31T06:12:34.346Z"
   },
   {
    "duration": 2,
    "start_time": "2024-10-31T06:12:43.298Z"
   },
   {
    "duration": 113,
    "start_time": "2024-10-31T06:12:43.302Z"
   },
   {
    "duration": 10,
    "start_time": "2024-10-31T06:12:43.417Z"
   },
   {
    "duration": 16,
    "start_time": "2024-10-31T06:12:43.429Z"
   },
   {
    "duration": 4,
    "start_time": "2024-10-31T06:12:43.448Z"
   },
   {
    "duration": 5,
    "start_time": "2024-10-31T06:12:43.453Z"
   },
   {
    "duration": 5,
    "start_time": "2024-10-31T06:12:43.459Z"
   },
   {
    "duration": 19,
    "start_time": "2024-10-31T06:12:43.467Z"
   },
   {
    "duration": 25,
    "start_time": "2024-10-31T06:12:43.487Z"
   },
   {
    "duration": 44,
    "start_time": "2024-10-31T06:12:43.514Z"
   },
   {
    "duration": 40,
    "start_time": "2024-10-31T06:12:43.560Z"
   },
   {
    "duration": 16,
    "start_time": "2024-10-31T06:12:43.602Z"
   },
   {
    "duration": 9,
    "start_time": "2024-10-31T06:12:45.455Z"
   },
   {
    "duration": 8,
    "start_time": "2024-10-31T06:12:48.475Z"
   },
   {
    "duration": 39,
    "start_time": "2024-10-31T06:15:45.907Z"
   },
   {
    "duration": 2,
    "start_time": "2024-10-31T06:15:53.520Z"
   },
   {
    "duration": 111,
    "start_time": "2024-10-31T06:15:53.524Z"
   },
   {
    "duration": 13,
    "start_time": "2024-10-31T06:15:53.637Z"
   },
   {
    "duration": 10,
    "start_time": "2024-10-31T06:15:53.652Z"
   },
   {
    "duration": 3,
    "start_time": "2024-10-31T06:15:53.665Z"
   },
   {
    "duration": 5,
    "start_time": "2024-10-31T06:15:53.670Z"
   },
   {
    "duration": 4,
    "start_time": "2024-10-31T06:15:53.677Z"
   },
   {
    "duration": 17,
    "start_time": "2024-10-31T06:15:53.683Z"
   },
   {
    "duration": 60,
    "start_time": "2024-10-31T06:15:53.702Z"
   },
   {
    "duration": 17,
    "start_time": "2024-10-31T06:15:53.763Z"
   },
   {
    "duration": 39,
    "start_time": "2024-10-31T06:15:53.781Z"
   },
   {
    "duration": 16,
    "start_time": "2024-10-31T06:15:55.089Z"
   },
   {
    "duration": 9,
    "start_time": "2024-10-31T06:15:56.279Z"
   },
   {
    "duration": 10,
    "start_time": "2024-10-31T06:15:57.658Z"
   },
   {
    "duration": 5,
    "start_time": "2024-10-31T06:15:59.774Z"
   },
   {
    "duration": 4,
    "start_time": "2024-10-31T06:17:29.851Z"
   },
   {
    "duration": 5,
    "start_time": "2024-10-31T06:17:30.944Z"
   },
   {
    "duration": 4,
    "start_time": "2024-10-31T06:17:32.017Z"
   },
   {
    "duration": 10,
    "start_time": "2024-10-31T06:17:36.162Z"
   },
   {
    "duration": 39,
    "start_time": "2024-10-31T06:17:37.875Z"
   },
   {
    "duration": 37,
    "start_time": "2024-10-31T06:17:39.746Z"
   },
   {
    "duration": 8,
    "start_time": "2024-10-31T06:17:40.859Z"
   },
   {
    "duration": 2,
    "start_time": "2024-10-31T06:17:45.241Z"
   },
   {
    "duration": 121,
    "start_time": "2024-10-31T06:17:45.246Z"
   },
   {
    "duration": 10,
    "start_time": "2024-10-31T06:17:45.370Z"
   },
   {
    "duration": 9,
    "start_time": "2024-10-31T06:17:45.382Z"
   },
   {
    "duration": 3,
    "start_time": "2024-10-31T06:17:45.393Z"
   },
   {
    "duration": 6,
    "start_time": "2024-10-31T06:17:45.398Z"
   },
   {
    "duration": 4,
    "start_time": "2024-10-31T06:17:45.405Z"
   },
   {
    "duration": 47,
    "start_time": "2024-10-31T06:17:45.410Z"
   },
   {
    "duration": 23,
    "start_time": "2024-10-31T06:17:45.459Z"
   },
   {
    "duration": 17,
    "start_time": "2024-10-31T06:17:45.484Z"
   },
   {
    "duration": 61,
    "start_time": "2024-10-31T06:17:45.503Z"
   },
   {
    "duration": 16,
    "start_time": "2024-10-31T06:17:45.565Z"
   },
   {
    "duration": 7,
    "start_time": "2024-10-31T06:17:45.583Z"
   },
   {
    "duration": 7,
    "start_time": "2024-10-31T06:17:45.592Z"
   },
   {
    "duration": 2,
    "start_time": "2024-10-31T06:17:50.011Z"
   },
   {
    "duration": 117,
    "start_time": "2024-10-31T06:17:50.400Z"
   },
   {
    "duration": 9,
    "start_time": "2024-10-31T06:17:50.971Z"
   },
   {
    "duration": 8,
    "start_time": "2024-10-31T06:17:52.102Z"
   },
   {
    "duration": 4,
    "start_time": "2024-10-31T06:17:54.033Z"
   },
   {
    "duration": 5,
    "start_time": "2024-10-31T06:17:55.010Z"
   },
   {
    "duration": 4,
    "start_time": "2024-10-31T06:17:56.592Z"
   },
   {
    "duration": 19,
    "start_time": "2024-10-31T06:17:58.129Z"
   },
   {
    "duration": 25,
    "start_time": "2024-10-31T06:17:59.604Z"
   },
   {
    "duration": 17,
    "start_time": "2024-10-31T06:18:01.013Z"
   },
   {
    "duration": 40,
    "start_time": "2024-10-31T06:18:02.086Z"
   },
   {
    "duration": 16,
    "start_time": "2024-10-31T06:18:03.308Z"
   },
   {
    "duration": 9,
    "start_time": "2024-10-31T06:18:07.442Z"
   },
   {
    "duration": 8,
    "start_time": "2024-10-31T06:18:09.176Z"
   },
   {
    "duration": 40,
    "start_time": "2024-10-31T06:18:13.488Z"
   },
   {
    "duration": 10,
    "start_time": "2024-10-31T06:18:30.984Z"
   },
   {
    "duration": 5,
    "start_time": "2024-10-31T06:18:41.658Z"
   },
   {
    "duration": 154,
    "start_time": "2024-10-31T14:44:52.585Z"
   },
   {
    "duration": 12,
    "start_time": "2024-10-31T14:48:26.629Z"
   },
   {
    "duration": 314,
    "start_time": "2024-10-31T14:48:34.426Z"
   },
   {
    "duration": 135,
    "start_time": "2024-10-31T14:48:34.771Z"
   },
   {
    "duration": 16,
    "start_time": "2024-10-31T14:48:35.107Z"
   },
   {
    "duration": 8,
    "start_time": "2024-10-31T14:48:35.431Z"
   },
   {
    "duration": 4,
    "start_time": "2024-10-31T14:48:36.209Z"
   },
   {
    "duration": 5,
    "start_time": "2024-10-31T14:48:36.623Z"
   },
   {
    "duration": 4,
    "start_time": "2024-10-31T14:48:37.026Z"
   },
   {
    "duration": 18,
    "start_time": "2024-10-31T14:48:37.441Z"
   },
   {
    "duration": 25,
    "start_time": "2024-10-31T14:48:37.844Z"
   },
   {
    "duration": 17,
    "start_time": "2024-10-31T14:48:38.325Z"
   },
   {
    "duration": 41,
    "start_time": "2024-10-31T14:48:39.331Z"
   },
   {
    "duration": 17,
    "start_time": "2024-10-31T14:48:43.291Z"
   },
   {
    "duration": 8,
    "start_time": "2024-10-31T14:48:45.455Z"
   },
   {
    "duration": 9,
    "start_time": "2024-10-31T14:48:47.985Z"
   },
   {
    "duration": 4,
    "start_time": "2024-10-31T14:48:58.897Z"
   },
   {
    "duration": 36,
    "start_time": "2024-10-31T14:49:19.072Z"
   },
   {
    "duration": 4,
    "start_time": "2024-10-31T14:49:28.383Z"
   },
   {
    "duration": 304,
    "start_time": "2024-10-31T14:54:15.054Z"
   },
   {
    "duration": 3,
    "start_time": "2024-10-31T14:54:24.365Z"
   },
   {
    "duration": 125,
    "start_time": "2024-10-31T14:54:24.699Z"
   },
   {
    "duration": 11,
    "start_time": "2024-10-31T14:54:25.102Z"
   },
   {
    "duration": 10,
    "start_time": "2024-10-31T14:54:25.469Z"
   },
   {
    "duration": 5,
    "start_time": "2024-10-31T14:54:27.333Z"
   },
   {
    "duration": 5,
    "start_time": "2024-10-31T14:54:28.485Z"
   },
   {
    "duration": 4,
    "start_time": "2024-10-31T14:54:29.128Z"
   },
   {
    "duration": 18,
    "start_time": "2024-10-31T14:54:30.700Z"
   },
   {
    "duration": 25,
    "start_time": "2024-10-31T14:54:31.852Z"
   },
   {
    "duration": 18,
    "start_time": "2024-10-31T14:54:33.329Z"
   },
   {
    "duration": 41,
    "start_time": "2024-10-31T14:54:34.787Z"
   },
   {
    "duration": 16,
    "start_time": "2024-10-31T14:54:36.701Z"
   },
   {
    "duration": 16,
    "start_time": "2024-10-31T15:03:49.535Z"
   },
   {
    "duration": 17,
    "start_time": "2024-10-31T15:03:56.387Z"
   },
   {
    "duration": 17,
    "start_time": "2024-10-31T15:04:03.369Z"
   },
   {
    "duration": 18,
    "start_time": "2024-10-31T15:04:07.614Z"
   },
   {
    "duration": 2,
    "start_time": "2024-10-31T15:04:10.333Z"
   },
   {
    "duration": 114,
    "start_time": "2024-10-31T15:04:10.345Z"
   },
   {
    "duration": 10,
    "start_time": "2024-10-31T15:04:10.461Z"
   },
   {
    "duration": 9,
    "start_time": "2024-10-31T15:04:10.472Z"
   },
   {
    "duration": 3,
    "start_time": "2024-10-31T15:04:10.482Z"
   },
   {
    "duration": 5,
    "start_time": "2024-10-31T15:04:10.489Z"
   },
   {
    "duration": 5,
    "start_time": "2024-10-31T15:04:10.495Z"
   },
   {
    "duration": 18,
    "start_time": "2024-10-31T15:04:10.525Z"
   },
   {
    "duration": 23,
    "start_time": "2024-10-31T15:04:10.544Z"
   },
   {
    "duration": 17,
    "start_time": "2024-10-31T15:04:10.568Z"
   },
   {
    "duration": 59,
    "start_time": "2024-10-31T15:04:10.586Z"
   },
   {
    "duration": 18,
    "start_time": "2024-10-31T15:04:10.647Z"
   },
   {
    "duration": 9,
    "start_time": "2024-10-31T15:04:32.512Z"
   },
   {
    "duration": 41,
    "start_time": "2024-10-31T15:10:13.086Z"
   },
   {
    "duration": 36,
    "start_time": "2024-10-31T15:10:15.607Z"
   },
   {
    "duration": 10,
    "start_time": "2024-10-31T15:10:26.170Z"
   },
   {
    "duration": 6,
    "start_time": "2024-10-31T15:10:42.345Z"
   },
   {
    "duration": 15,
    "start_time": "2024-10-31T15:18:46.369Z"
   },
   {
    "duration": 13,
    "start_time": "2024-10-31T15:18:55.948Z"
   },
   {
    "duration": 6,
    "start_time": "2024-10-31T15:19:45.671Z"
   },
   {
    "duration": 7,
    "start_time": "2024-10-31T15:36:53.269Z"
   },
   {
    "duration": 8,
    "start_time": "2024-10-31T15:39:46.644Z"
   },
   {
    "duration": 3,
    "start_time": "2024-10-31T15:39:49.492Z"
   },
   {
    "duration": 3,
    "start_time": "2024-10-31T15:39:50.831Z"
   },
   {
    "duration": 2,
    "start_time": "2024-10-31T15:39:51.401Z"
   },
   {
    "duration": 2,
    "start_time": "2024-10-31T15:39:51.744Z"
   },
   {
    "duration": 9,
    "start_time": "2024-10-31T15:46:38.494Z"
   },
   {
    "duration": 4,
    "start_time": "2024-10-31T15:48:05.294Z"
   },
   {
    "duration": 12,
    "start_time": "2024-10-31T15:48:13.801Z"
   },
   {
    "duration": 325,
    "start_time": "2024-10-31T18:03:07.514Z"
   },
   {
    "duration": 171,
    "start_time": "2024-10-31T18:03:07.841Z"
   },
   {
    "duration": 18,
    "start_time": "2024-10-31T18:03:08.013Z"
   },
   {
    "duration": 12,
    "start_time": "2024-10-31T18:03:08.033Z"
   },
   {
    "duration": 3,
    "start_time": "2024-10-31T18:03:08.047Z"
   },
   {
    "duration": 5,
    "start_time": "2024-10-31T18:03:08.052Z"
   },
   {
    "duration": 3,
    "start_time": "2024-10-31T18:03:08.059Z"
   },
   {
    "duration": 18,
    "start_time": "2024-10-31T18:03:08.087Z"
   },
   {
    "duration": 29,
    "start_time": "2024-10-31T18:03:08.108Z"
   },
   {
    "duration": 22,
    "start_time": "2024-10-31T18:03:08.140Z"
   },
   {
    "duration": 57,
    "start_time": "2024-10-31T18:03:08.164Z"
   },
   {
    "duration": 48,
    "start_time": "2024-10-31T18:03:08.223Z"
   },
   {
    "duration": 44,
    "start_time": "2024-10-31T18:03:08.286Z"
   },
   {
    "duration": 54,
    "start_time": "2024-10-31T18:03:08.334Z"
   },
   {
    "duration": 7,
    "start_time": "2024-10-31T18:03:08.390Z"
   },
   {
    "duration": 4,
    "start_time": "2024-10-31T18:03:08.399Z"
   },
   {
    "duration": 16,
    "start_time": "2024-10-31T18:03:08.404Z"
   },
   {
    "duration": 8,
    "start_time": "2024-10-31T18:03:08.421Z"
   },
   {
    "duration": 9,
    "start_time": "2024-10-31T18:03:08.431Z"
   },
   {
    "duration": 41,
    "start_time": "2024-10-31T18:03:08.445Z"
   },
   {
    "duration": 12,
    "start_time": "2024-10-31T18:03:08.488Z"
   },
   {
    "duration": 15,
    "start_time": "2024-10-31T18:03:08.502Z"
   },
   {
    "duration": 221,
    "start_time": "2024-10-31T18:03:08.521Z"
   },
   {
    "duration": 0,
    "start_time": "2024-10-31T18:03:08.743Z"
   },
   {
    "duration": 233,
    "start_time": "2024-10-31T18:07:18.221Z"
   },
   {
    "duration": 103,
    "start_time": "2024-10-31T18:09:57.904Z"
   },
   {
    "duration": 8,
    "start_time": "2024-10-31T18:10:06.561Z"
   },
   {
    "duration": 12,
    "start_time": "2024-10-31T18:16:03.933Z"
   },
   {
    "duration": 11,
    "start_time": "2024-10-31T18:21:12.717Z"
   },
   {
    "duration": 313,
    "start_time": "2024-10-31T20:45:10.226Z"
   },
   {
    "duration": 146,
    "start_time": "2024-10-31T20:45:10.541Z"
   },
   {
    "duration": 15,
    "start_time": "2024-10-31T20:45:10.688Z"
   },
   {
    "duration": 21,
    "start_time": "2024-10-31T20:45:10.704Z"
   },
   {
    "duration": 3,
    "start_time": "2024-10-31T20:45:10.728Z"
   },
   {
    "duration": 7,
    "start_time": "2024-10-31T20:45:10.735Z"
   },
   {
    "duration": 3,
    "start_time": "2024-10-31T20:45:10.744Z"
   },
   {
    "duration": 18,
    "start_time": "2024-10-31T20:45:10.749Z"
   },
   {
    "duration": 55,
    "start_time": "2024-10-31T20:45:10.769Z"
   },
   {
    "duration": 17,
    "start_time": "2024-10-31T20:45:10.826Z"
   },
   {
    "duration": 41,
    "start_time": "2024-10-31T20:45:10.845Z"
   },
   {
    "duration": 64,
    "start_time": "2024-10-31T20:45:10.888Z"
   },
   {
    "duration": 41,
    "start_time": "2024-10-31T20:45:10.954Z"
   },
   {
    "duration": 49,
    "start_time": "2024-10-31T20:45:10.997Z"
   },
   {
    "duration": 6,
    "start_time": "2024-10-31T20:45:11.047Z"
   },
   {
    "duration": 2,
    "start_time": "2024-10-31T20:45:11.055Z"
   },
   {
    "duration": 14,
    "start_time": "2024-10-31T20:45:11.059Z"
   },
   {
    "duration": 6,
    "start_time": "2024-10-31T20:45:11.075Z"
   },
   {
    "duration": 7,
    "start_time": "2024-10-31T20:45:11.082Z"
   },
   {
    "duration": 37,
    "start_time": "2024-10-31T20:45:11.091Z"
   },
   {
    "duration": 8,
    "start_time": "2024-10-31T20:45:11.130Z"
   },
   {
    "duration": 12,
    "start_time": "2024-10-31T20:45:11.140Z"
   },
   {
    "duration": 12,
    "start_time": "2024-10-31T20:45:11.153Z"
   },
   {
    "duration": 13,
    "start_time": "2024-10-31T20:45:11.167Z"
   },
   {
    "duration": 322,
    "start_time": "2024-10-31T20:58:30.359Z"
   },
   {
    "duration": 123,
    "start_time": "2024-10-31T20:58:30.684Z"
   },
   {
    "duration": 17,
    "start_time": "2024-10-31T20:58:30.808Z"
   },
   {
    "duration": 9,
    "start_time": "2024-10-31T20:58:30.826Z"
   },
   {
    "duration": 3,
    "start_time": "2024-10-31T20:58:30.838Z"
   },
   {
    "duration": 6,
    "start_time": "2024-10-31T20:58:30.844Z"
   },
   {
    "duration": 4,
    "start_time": "2024-10-31T20:58:30.852Z"
   },
   {
    "duration": 19,
    "start_time": "2024-10-31T20:58:30.857Z"
   },
   {
    "duration": 64,
    "start_time": "2024-10-31T20:58:30.877Z"
   },
   {
    "duration": 17,
    "start_time": "2024-10-31T20:58:30.943Z"
   },
   {
    "duration": 43,
    "start_time": "2024-10-31T20:58:30.962Z"
   },
   {
    "duration": 46,
    "start_time": "2024-10-31T20:58:31.023Z"
   },
   {
    "duration": 61,
    "start_time": "2024-10-31T20:58:31.071Z"
   },
   {
    "duration": 44,
    "start_time": "2024-10-31T20:58:31.136Z"
   },
   {
    "duration": 10,
    "start_time": "2024-10-31T20:58:31.182Z"
   },
   {
    "duration": 3,
    "start_time": "2024-10-31T20:58:31.194Z"
   },
   {
    "duration": 32,
    "start_time": "2024-10-31T20:58:31.201Z"
   },
   {
    "duration": 6,
    "start_time": "2024-10-31T20:58:31.235Z"
   },
   {
    "duration": 10,
    "start_time": "2024-10-31T20:58:31.242Z"
   },
   {
    "duration": 10,
    "start_time": "2024-10-31T20:58:31.254Z"
   },
   {
    "duration": 9,
    "start_time": "2024-10-31T20:58:31.265Z"
   },
   {
    "duration": 14,
    "start_time": "2024-10-31T20:58:31.276Z"
   },
   {
    "duration": 12,
    "start_time": "2024-10-31T20:58:31.324Z"
   },
   {
    "duration": 11,
    "start_time": "2024-10-31T20:58:31.338Z"
   }
  ],
  "kernelspec": {
   "display_name": "Python 3 (ipykernel)",
   "language": "python",
   "name": "python3"
  },
  "language_info": {
   "codemirror_mode": {
    "name": "ipython",
    "version": 3
   },
   "file_extension": ".py",
   "mimetype": "text/x-python",
   "name": "python",
   "nbconvert_exporter": "python",
   "pygments_lexer": "ipython3",
   "version": "3.9.19"
  },
  "toc": {
   "base_numbering": 1,
   "nav_menu": {},
   "number_sections": true,
   "sideBar": true,
   "skip_h1_title": true,
   "title_cell": "Table of Contents",
   "title_sidebar": "Contents",
   "toc_cell": false,
   "toc_position": {},
   "toc_section_display": true,
   "toc_window_display": false
  }
 },
 "nbformat": 4,
 "nbformat_minor": 5
}
